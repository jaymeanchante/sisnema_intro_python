{
 "cells": [
  {
   "cell_type": "markdown",
   "metadata": {},
   "source": [
    "# Capítulo 12"
   ]
  },
  {
   "cell_type": "markdown",
   "metadata": {},
   "source": [
    "## Exercício 12.1\n",
    "\n",
    "Escreva uma função chamada most_frequent que receba uma string e exiba as letras em ordem decrescente de frequência. Encontre amostras de texto de vários idiomas diferentes e veja como a frequência das letras varia entre os idiomas. Compare seus resultados com as tabelas em http://en.wikipedia.org/wiki/Letter_frequencies.\n",
    "\n",
    "Solução: http://thinkpython2.com/code/most_frequent.py"
   ]
  },
  {
   "cell_type": "markdown",
   "metadata": {},
   "source": [
    "## Exercício 12.2\n",
    "\n",
    "Mais anagramas!\n",
    "\n",
    "    Escreva um programa que leia uma lista de palavras de um arquivo (veja “Leitura de listas de palavras”, na página 133) e imprima todos os conjuntos de palavras que são anagramas.\n",
    "\n",
    "        Aqui está um exemplo de como a saída pode parecer:\n",
    "\n",
    "        ```\n",
    "        ['deltas', 'desalt', 'lasted', 'salted', 'slated', 'staled']\n",
    "        ['retainers', 'ternaries']\n",
    "        ['generating', 'greatening']\n",
    "        ['resmelts', 'smelters', 'termless']\n",
    "        ```\n",
    "\n",
    "        Dica: você pode querer construir um dicionário que mapeie uma coleção de letras a uma lista de palavras que podem ser soletradas com essas letras. A pergunta é: como representar a coleção de letras de forma que possa ser usada como uma chave?\n",
    "\n",
    "    Altere o programa anterior para que exiba a lista mais longa de anagramas primeiro, seguido pela segunda mais longa, e assim por diante.\n",
    "\n",
    "    No Scrabble, um “bingo” é quando você joga todas as sete peças na sua estante, junto com uma peça no tabuleiro, para formar uma palavra de oito letras. Que coleção de oito letras forma o maior número possível de bingos? Dica: há sete.\n",
    "\n",
    "Solução: http://thinkpython2.com/code/anagram_sets.py"
   ]
  },
  {
   "cell_type": "markdown",
   "metadata": {},
   "source": [
    "## Exercício 12.3\n",
    "\n",
    "Duas palavras formam um “par de metátese” se você puder transformar uma na outra trocando duas letras, por exemplo, “converse” e “conserve”. Escreva um programa que descubra todos os pares de metátese no dicionário. Dica: não teste todos os pares de palavras e não teste todas as trocas possíveis.\n",
    "\n",
    "Solução: http://thinkpython2.com/code/metathesis.py. Crédito: este exercício foi inspirado por um exemplo em http://puzzlers.org"
   ]
  },
  {
   "cell_type": "markdown",
   "metadata": {},
   "source": [
    "## Exercício 12.4\n",
    "\n",
    "Aqui está outro quebra-cabeça do programa Car Talk (http://www.cartalk.com/content/puzzlers):\n",
    "\n",
    "Qual é a palavra inglesa mais longa, que permanece uma palavra inglesa válida, conforme vai removendo suas letras, uma após a outra?\n",
    "\n",
    "Agora, as letras podem ser retiradas do fim ou do meio, mas você não pode reajustar nenhuma delas. Cada vez que remove uma letra, você acaba com outra palavra inglesa. Se fizer isto, eventualmente você acabará com uma letra e isso também será uma palavra inglesa; uma encontrada no dicionário. Quero saber qual é a palavra mais longa e quantas letras tem?\n",
    "\n",
    "Vou dar um pequeno exemplo modesto: Sprite. Ok? Você começa com sprite, tira uma letra do interior da palavra, tira o r, e ficamos com a palavra spite, então tiramos o e do fim, ficamos com spit, tiramos o s, ficamos com pit, it e I.\n",
    "\n",
    "Escreva um programa que encontre todas as palavras que podem ser reduzidas desta forma, e então encontre a mais longa.\n",
    "\n",
    "Este exercício é um pouco mais desafiador que a maioria, então aqui estão algumas sugestões:\n",
    "\n",
    "    1. Você pode querer escrever uma função que receba uma palavra e calcule uma lista de todas as palavras que podem ser formadas retirando uma letra. Esses são os “filhos” da palavra.\n",
    "\n",
    "    2. Recursivamente, uma palavra é redutível se algum de seus filhos for redutível. Como caso base, você pode considerar a string vazia redutível.\n",
    "\n",
    "    3. A lista de palavras que forneci, words.txt, não contém palavras de uma letra só. Portanto, você pode querer acrescentar “I”, “a”, e a string vazia.\n",
    "\n",
    "    4. Para melhorar o desempenho do seu programa, você pode querer memorizar as palavras conhecidas por serem redutíveis.\n",
    "\n",
    "Solução: http://thinkpython2.com/code/reducible.py"
   ]
  },
  {
   "cell_type": "markdown",
   "metadata": {},
   "source": [
    "# Capítulo 13"
   ]
  },
  {
   "cell_type": "markdown",
   "metadata": {},
   "source": [
    "## Exercício 13.9\n",
    "\n",
    "A “classificação” de uma palavra é a sua posição em uma lista de palavras classificadas por frequência: a palavra mais comum tem a classificação 1, a segunda mais comum é 2 etc.\n",
    "\n",
    "A lei de Zipf descreve a relação entre classificações e frequências das palavras em linguagens naturais (http://en.wikipedia.org/wiki/Zipf’s_law). Ela prevê especificamente que a frequência, f, da palavra com classificação r é:\n",
    "\n",
    "$$f = cr−s$$\n",
    "\n",
    "onde s e c são parâmetros que dependem do idioma e do texto. Se você tomar o logaritmo de ambos os lados desta equação, obtém:\n",
    "\n",
    "$$ log f = log c − s log r $$\n",
    "\n",
    "Se você traçar o log de f contra o log de r, terá uma linha reta com uma elevação -s e interceptar o log de c.\n",
    "\n",
    "Escreva um programa que leia um texto em um arquivo, conte as frequências das palavras e exiba uma linha para cada palavra, em ordem descendente da frequência, com log de f e log de r. Use o programa gráfico de sua escolha para traçar os resultados e verifique se formam uma linha reta. Você pode estimar o valor de s?\n",
    "\n",
    "Solução: http://thinkpython2.com/code/zipf.py. Para executar a minha solução, você vai precisar do módulo de gráficos matplotlib. Se você instalou o Anaconda, já tem o matplotlib; se não tiver, é preciso instalá-lo."
   ]
  },
  {
   "cell_type": "markdown",
   "metadata": {},
   "source": [
    "# Capítulo 14"
   ]
  },
  {
   "cell_type": "markdown",
   "metadata": {},
   "source": [
    "## Exercício 14.2\n",
    "\n",
    "Se você baixar minha solução do Exercício 12.2 em http://thinkpython2.com/code/anagram_sets.py, verá que ela cria um dicionário que mapeia uma string ordenada de letras à lista de palavras que podem ser soletradas com aquelas letras. Por exemplo, 'opst' mapeia à lista ['opts', 'post', 'pots', 'spot', 'stop', 'tops'].\n",
    "\n",
    "Escreva um módulo que importe anagram_sets e forneça duas novas funções: store_anagrams deve guardar o dicionário de anagramas em uma “prateleira” (objeto criado pelo módulo sheve); read_anagrams deve procurar uma palavra e devolver uma lista dos seus anagramas.\n",
    "\n",
    "Solução: http://thinkpython2.com/code/anagram_db.py"
   ]
  },
  {
   "cell_type": "markdown",
   "metadata": {},
   "source": [
    "## Exercício 14.3\n",
    "\n",
    "Em uma grande coleção de arquivos MP3 pode haver mais de uma cópia da mesma música, guardada em diretórios diferentes ou com nomes de arquivo diferentes. A meta deste exercício é procurar duplicatas.\n",
    "\n",
    "    Escreva um programa que procure um diretório e todos os seus subdiretórios, recursivamente, e retorne uma lista de caminhos completos de todos os arquivos com um dado sufixo (como .mp3). Dica: os.path fornece várias funções úteis para manipular nomes de caminhos e de arquivos.\n",
    "\n",
    "    Para reconhecer duplicatas, você pode usar md5sum para calcular uma “soma de controle” para cada arquivo. Se dois arquivos tiverem a mesma soma de controle, provavelmente têm o mesmo conteúdo.\n",
    "\n",
    "    Para conferir o resultado, você pode usar o comando Unix diff.\n",
    "\n",
    "Solução: http://thinkpython2.com/code/find_duplicates.py"
   ]
  },
  {
   "cell_type": "code",
   "execution_count": 2,
   "metadata": {},
   "outputs": [],
   "source": [
    "import os"
   ]
  },
  {
   "cell_type": "code",
   "execution_count": 15,
   "metadata": {},
   "outputs": [],
   "source": [
    "downloads = \"C:\\\\Users\\\\jayme.anchante\\\\Downloads\\\\\"\n",
    "arquivos_downloads = os.listdir(downloads)"
   ]
  },
  {
   "cell_type": "code",
   "execution_count": 26,
   "metadata": {},
   "outputs": [
    {
     "data": {
      "text/plain": [
       "['-1_-_jayme_tolpolar_anchante_02371844004.pdf',\n",
       " '2020_04_01.txt',\n",
       " '2020_04_02.txt',\n",
       " '2020_04_03.txt',\n",
       " '2020_04_06.txt',\n",
       " '2020_04_07.txt',\n",
       " 'Anaconda3-2020.02-Windows-x86_64.exe',\n",
       " 'Big data e privacidade_ Cambridge Analytica e os dois lados de uma mesma moeda_.pdf',\n",
       " 'calculos_jeza.txt',\n",
       " 'cloud_tools_edenred_nouhayla_estelle.txt',\n",
       " 'Conti-Thomas-V.-2020-04-06.-Crise-Tripla-do-Covid-19-olhar-econômico-sobre-as-políticas-públicas-de-combate-à-pandemia.-Texto-para-discussão.-Versão-1.1.pdf',\n",
       " 'data.ods',\n",
       " 'data_studio_edenred_nadine_raiss.txt',\n",
       " 'desktop.ini',\n",
       " 'diary.zip',\n",
       " 'DS & BI Capability team v20200401.pptx',\n",
       " 'edenred_accesses.txt',\n",
       " 'emails.txt',\n",
       " 'empresas_dbc.txt',\n",
       " 'eQ proposition to HUB v202001249 (002).pptx',\n",
       " 'EZBlocker.exe',\n",
       " 'Git-2.27.0-64-bit.exe',\n",
       " 'GoHub - DS - use-case 1 - data model v20200331 (2).xlsx',\n",
       " 'GoHub - DS - use-case 1 - data model v20200331.xlsx',\n",
       " 'horas',\n",
       " 'hub_data_science.odp',\n",
       " 'lightning-68.5.0-tb.xpi',\n",
       " 'link.html',\n",
       " 'MicrosoftTeams-image.png',\n",
       " 'notas',\n",
       " 'onboarding.txt',\n",
       " 'redshift',\n",
       " 'redshift-windows-x86_64',\n",
       " 'redshift-windows-x86_64.zip',\n",
       " 'redshift.zip',\n",
       " 'rufus-3.8p.exe',\n",
       " 'rufus.ini',\n",
       " 'temp.sql',\n",
       " 'time_card.csv',\n",
       " 'use_case1',\n",
       " 'Video coop.mp4',\n",
       " 'webexapp.msi',\n",
       " 'Win10_Pro_1511_English_x64_july_2016.iso',\n",
       " 'ZoomInstaller.exe']"
      ]
     },
     "execution_count": 26,
     "metadata": {},
     "output_type": "execute_result"
    }
   ],
   "source": [
    "arquivos_downloads"
   ]
  },
  {
   "cell_type": "code",
   "execution_count": 27,
   "metadata": {},
   "outputs": [
    {
     "name": "stdout",
     "output_type": "stream",
     "text": [
      "Arquivo 2020_04_01.txt já existe!\n",
      "Duplicatas ['2020_04_01.txt']\n"
     ]
    }
   ],
   "source": [
    "arquivos = []\n",
    "duplicatas = []\n",
    "for item in arquivos_downloads:\n",
    "    caminho_completo = os.path.join(downloads, item)\n",
    "    if os.path.isdir(caminho_completo):\n",
    "        arquivos_diretorio = os.listdir(caminho_completo)\n",
    "        for arquivo_diretorio in arquivos_diretorio:\n",
    "            if arquivo_diretorio not in arquivos:\n",
    "                arquivos.append(arquivo_diretorio)\n",
    "            else:\n",
    "                duplicatas.append(arquivo_diretorio)\n",
    "                print(\"Arquivo %s já existe!\" % arquivo_diretorio)\n",
    "    else:\n",
    "        arquivos.append(item)\n",
    "arquivos\n",
    "\n",
    "print(\"Duplicatas\", duplicatas)"
   ]
  },
  {
   "cell_type": "markdown",
   "metadata": {},
   "source": [
    "# Capítulo 15"
   ]
  },
  {
   "cell_type": "markdown",
   "metadata": {},
   "source": [
    "## Exercício 15.1\n",
    "\n",
    "    1. Escreva uma definição para uma classe denominada Circle, com os atributos center e radius, onde center é um objeto Point e radius é um número.\n",
    "\n",
    "    2. Instancie um objeto Circle, que represente um círculo com o centro em 150, 100 e raio 75.\n",
    "\n",
    "    3. Escreva uma função denominada point_in_circle, que tome um Circle e um Point e retorne True, se o ponto estiver dentro ou no limite do círculo.\n",
    "\n",
    "    4. Escreva uma função chamada rect_in_circle, que tome um Circle e um Rectangle e retorne True, se o retângulo estiver totalmente dentro ou no limite do círculo.\n",
    "\n",
    "    5. Escreva uma função denominada rect_circle_overlap, que tome um Circle e um Rectangle e retorne True, se algum dos cantos do retângulo cair dentro do círculo. Ou, em uma versão mais desafiadora, retorne True se alguma parte do retângulo cair dentro do círculo.\n",
    "\n",
    "Solução: http://thinkpython2.com/code/Circle.py"
   ]
  },
  {
   "cell_type": "code",
   "execution_count": 31,
   "metadata": {},
   "outputs": [],
   "source": [
    "# 1\n",
    "class Point:\n",
    "    \"\"\"Classe Point\"\"\"\n",
    "class Circle:\n",
    "    \"\"\"Atributos center e radius\"\"\""
   ]
  },
  {
   "cell_type": "code",
   "execution_count": 32,
   "metadata": {},
   "outputs": [
    {
     "data": {
      "text/plain": [
       "<__main__.Circle at 0x19aa7145548>"
      ]
     },
     "execution_count": 32,
     "metadata": {},
     "output_type": "execute_result"
    }
   ],
   "source": [
    "# 2\n",
    "circle = Circle()\n",
    "circle.radius = 75\n",
    "circle.center = Point()\n",
    "circle.center.x = 150\n",
    "circle.center.y = 100\n",
    "circle"
   ]
  },
  {
   "cell_type": "code",
   "execution_count": 50,
   "metadata": {},
   "outputs": [
    {
     "data": {
      "text/plain": [
       "False"
      ]
     },
     "execution_count": 50,
     "metadata": {},
     "output_type": "execute_result"
    }
   ],
   "source": [
    "# 3\n",
    "def point_in_circle(circle, point):\n",
    "    \"\"\"Escopo local\"\"\"\n",
    "    dx = point.x - circle.center.x\n",
    "    dy = point.y - circle.center.y\n",
    "    dxy_quadrado = dx ** 2 + dy ** 2\n",
    "    distancia = dxy_quadrado ** (1/2)\n",
    "    if distancia <= circle.radius:\n",
    "        return True\n",
    "    else:\n",
    "        return False\n",
    "novo_ponto = Point()\n",
    "novo_ponto.x = 150\n",
    "novo_ponto.y = 250\n",
    "point_in_circle(circle, novo_ponto)"
   ]
  },
  {
   "cell_type": "code",
   "execution_count": null,
   "metadata": {},
   "outputs": [],
   "source": [
    "# 4\n",
    "def rect_in_circle(circle, rectangle):\n",
    "    um_canto = rectangle.corner\n",
    "    dois_canto = copy.copy(rectangle.corner)\n",
    "    dois_canto = dois_canto.x + rectangle.largura\n",
    "    if point_in_circle(circle, um_canto) and point_in_circle(circle, dois_canto):\n",
    "        return True\n",
    "    else:\n",
    "        return False       "
   ]
  },
  {
   "cell_type": "markdown",
   "metadata": {},
   "source": [
    "## Exercício 15.2\n",
    "\n",
    "    1. Escreva uma função chamada draw_rect que receba um objeto Turtle e um Rectangle e use o Turtle para desenhar o retângulo. Veja no Capítulo 4 os exemplos de uso de objetos Turtle.\n",
    "\n",
    "    2. Escreva uma função chamada draw_circle, que tome um Turtle e um Circle e desenhe o círculo."
   ]
  }
 ],
 "metadata": {
  "kernelspec": {
   "display_name": "Python 3",
   "language": "python",
   "name": "python3"
  },
  "language_info": {
   "codemirror_mode": {
    "name": "ipython",
    "version": 3
   },
   "file_extension": ".py",
   "mimetype": "text/x-python",
   "name": "python",
   "nbconvert_exporter": "python",
   "pygments_lexer": "ipython3",
   "version": "3.7.6"
  }
 },
 "nbformat": 4,
 "nbformat_minor": 4
}
