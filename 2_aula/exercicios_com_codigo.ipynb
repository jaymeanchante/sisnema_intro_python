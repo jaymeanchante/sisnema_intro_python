{
 "cells": [
  {
   "cell_type": "markdown",
   "metadata": {},
   "source": [
    "# Capítulo 4"
   ]
  },
  {
   "cell_type": "markdown",
   "metadata": {},
   "source": [
    "## Exercício 4.1\n",
    "\n",
    "\n",
    "    1. Desenhe um diagrama da pilha que mostre o estado do programa enquanto executa circle (bob, radius). Você pode fazer a aritmética à mão ou acrescentar instruções print ao código.\n",
    "\n",
    "    2. A versão de arc na seção 4.7 - Refatoração não é muito precisa porque a aproximação linear do círculo está sempre do lado de fora do círculo verdadeiro. Consequentemente, o Turtle acaba ficando alguns píxeis de distância do destino correto. Minha solução mostra um modo de reduzir o efeito deste erro. Leia o código e veja se faz sentido para você. Se desenhar um diagrama, poderá ver como funciona.\n"
   ]
  },
  {
   "cell_type": "markdown",
   "metadata": {},
   "source": [
    "## Exercício 4.2\n",
    "\n",
    "Escreva um conjunto de funções adequadamente geral que possa desenhar flores como as da Figura 4.1.\n",
    "\n",
    "![](https://raw.githubusercontent.com/PenseAllen/PensePython2e/master/fig/tnkp_0401.png)"
   ]
  },
  {
   "cell_type": "markdown",
   "metadata": {},
   "source": [
    "## Exercício 4.3\n",
    "\n",
    "Escreva um conjunto de funções adequadamente geral que possa desenhar formas como as da Figura 4.2.\n",
    "\n",
    "![](https://raw.githubusercontent.com/PenseAllen/PensePython2e/master/fig/tnkp_0402.png)"
   ]
  },
  {
   "cell_type": "markdown",
   "metadata": {},
   "source": [
    "## Exercício 4.4\n",
    "\n",
    "As letras do alfabeto podem ser construídas a partir de um número moderado de elementos básicos, como linhas verticais e horizontais e algumas curvas. Crie um alfabeto que possa ser desenhado com um número mínimo de elementos básicos e então escreva funções que desenhem as letras.\n",
    "\n",
    "Você deve escrever uma função para cada letra, com os nomes draw_a, draw_b etc., e colocar suas funções em um arquivo chamado letters.py. Você pode baixar uma “máquina de escrever de turtle” no site http://thinkpython2.com/code/typewriter.py para ajudar a testar o seu código."
   ]
  },
  {
   "cell_type": "markdown",
   "metadata": {},
   "source": [
    "## Exercício 4.5\n",
    "\n",
    "Leia sobre espirais em https://pt.wikipedia.org/wiki/Espiral; então escreva um programa que desenhe uma espiral de Arquimedes (ou um dos outros tipos)."
   ]
  },
  {
   "cell_type": "markdown",
   "metadata": {},
   "source": [
    "# Capítulo 5"
   ]
  },
  {
   "cell_type": "markdown",
   "metadata": {},
   "source": [
    "## Exercício 5.1\n",
    "\n",
    "O módulo time fornece uma função, também chamada time, que devolve a Hora Média de Greenwich na “época”, que é um momento arbitrário usado como ponto de referência. Em sistemas UNIX, a época é primeiro de janeiro de 1970.\n",
    "\n",
    "```\n",
    ">>> import time\n",
    ">>> time.time()\n",
    "1437746094.5735958\n",
    "```\n",
    "\n",
    "Escreva um script que leia a hora atual e a converta em um tempo em horas, minutos e segundos, mais o número de dias desde a época."
   ]
  },
  {
   "cell_type": "code",
   "execution_count": 1,
   "metadata": {},
   "outputs": [
    {
     "data": {
      "text/plain": [
       "1594170437.5643778"
      ]
     },
     "execution_count": 1,
     "metadata": {},
     "output_type": "execute_result"
    }
   ],
   "source": [
    "import time\n",
    "\n",
    "time.time()"
   ]
  },
  {
   "cell_type": "code",
   "execution_count": 11,
   "metadata": {},
   "outputs": [
    {
     "data": {
      "text/plain": [
       "38260096275.068825"
      ]
     },
     "execution_count": 11,
     "metadata": {},
     "output_type": "execute_result"
    }
   ],
   "source": [
    "now = time.time()\n",
    "now / 60 * 60 * 24"
   ]
  },
  {
   "cell_type": "code",
   "execution_count": 33,
   "metadata": {},
   "outputs": [
    {
     "name": "stdout",
     "output_type": "stream",
     "text": [
      "Dias 18451.0 horas 1.1883688521385194\n"
     ]
    }
   ],
   "source": [
    "to_days = (60 * 60 * 24)\n",
    "days = now // to_days\n",
    "hours = (now % to_days) / (60 * 60)\n",
    "print(\"Dias\", days, \"horas\", hours)"
   ]
  },
  {
   "cell_type": "markdown",
   "metadata": {},
   "source": [
    "## Exercício 5.2\n",
    "\n",
    "O último teorema de Fermat diz que não existem números inteiros a, b e c tais que $a^n + b^n == c^n$ para quaisquer valores de n maiores que 2.\n",
    "\n",
    "    1. Escreva uma função chamada check_fermat que receba quatro parâmetros – a, b, c e n – e verifique se o teorema de Fermat se mantém. Se n for maior que 2 e a**n + b**n == c**n o programa deve imprimir, “Holy smokes, Fermat was wrong!” Senão o programa deve exibir “No, that doesn’t work.”\n",
    "\n",
    "    2. Escreva uma função que peça ao usuário para digitar valores para a, b, c e n, os converta em números inteiros e use check_fermat para verificar se violam o teorema de Fermat.\n"
   ]
  },
  {
   "cell_type": "code",
   "execution_count": 36,
   "metadata": {},
   "outputs": [
    {
     "name": "stdout",
     "output_type": "stream",
     "text": [
      "No, that doesn’t work.\n"
     ]
    }
   ],
   "source": [
    "# 1\n",
    "def check_fermat(a, b, c, n):\n",
    "    if n > 2 and (a ** n + b ** n) == c ** n:\n",
    "        print(\"Holy smokes, Fermat was wrong!\")\n",
    "    else:\n",
    "        print(\"No, that doesn’t work.\")\n",
    "check_fermat(a=10, b=2, c=3, n=3)"
   ]
  },
  {
   "cell_type": "code",
   "execution_count": 42,
   "metadata": {},
   "outputs": [
    {
     "name": "stdout",
     "output_type": "stream",
     "text": [
      "Digite a:2\n",
      "Digite b:1\n",
      "Digite c:4\n",
      "Digite n:1\n",
      "Digite n (maior que 2):99\n",
      "No, that doesn’t work.\n"
     ]
    }
   ],
   "source": [
    "def digite_valores_fermat():\n",
    "    a = int(input(\"Digite a:\"))\n",
    "    b = int(input(\"Digite b:\"))\n",
    "    c = int(input(\"Digite c:\"))\n",
    "    n = int(input(\"Digite n:\"))\n",
    "    if n <= 2:\n",
    "        n = int(input(\"Digite n (maior que 2):\"))\n",
    "    check_fermat(a, b, c, n)\n",
    "\n",
    "digite_valores_fermat()"
   ]
  },
  {
   "cell_type": "markdown",
   "metadata": {},
   "source": [
    "## Exercício 5.3\n",
    "\n",
    "Se você tiver três gravetos, pode ser que consiga arranjá-los em um triângulo ou não. Por exemplo, se um dos gravetos tiver 12 polegadas de comprimento e outros dois tiverem uma polegada de comprimento, não será possível fazer com que os gravetos curtos se encontrem no meio. Há um teste simples para ver se é possível formar um triângulo para quaisquer três comprimentos:\n",
    "\n",
    "Se algum dos três comprimentos for maior que a soma dos outros dois, então você não pode formar um triângulo. Senão, você pode. (Se a soma de dois comprimentos igualar o terceiro, eles formam um triângulo chamado “degenerado”.)\n",
    "\n",
    "    1. Escreva uma função chamada is_triangle que receba três números inteiros como argumentos, e que imprima “Yes” ou “No”, dependendo da possibilidade de formar ou não um triângulo de gravetos com os comprimentos dados.\n",
    "\n",
    "    2. Escreva uma função que peça ao usuário para digitar três comprimentos de gravetos, os converta em números inteiros e use is_triangle para verificar se os gravetos com os comprimentos dados podem formar um triângulo.\n"
   ]
  },
  {
   "cell_type": "code",
   "execution_count": 44,
   "metadata": {},
   "outputs": [
    {
     "name": "stdout",
     "output_type": "stream",
     "text": [
      "Yes\n"
     ]
    }
   ],
   "source": [
    "# 1\n",
    "def is_triangle(num1, num2, num3):\n",
    "    if num1 > num2 + num3 or num2 > num1 + num3 or num3 > num1 + num2:\n",
    "        print(\"No\")\n",
    "    else:\n",
    "        print(\"Yes\")\n",
    "\n",
    "is_triangle(2, 2, 3)"
   ]
  },
  {
   "cell_type": "markdown",
   "metadata": {},
   "source": [
    "## Exercício 5.4\n",
    "\n",
    "Qual é a saída do seguinte programa? Desenhe um diagrama da pilha que mostre o estado do programa quando exibir o resultado.\n",
    "\n",
    "```\n",
    "def recurse(n, s):\n",
    "    if n == 0:\n",
    "        print(s)\n",
    "    else:\n",
    "        recurse(n-1, n+s)\n",
    "\n",
    "recurse(3, 0)\n",
    "```\n",
    "\n",
    "    1. O que aconteceria se você chamasse esta função desta forma: recurse(-1, 0)?\n",
    "\n",
    "    2. Escreva uma docstring que explique tudo o que alguém precisaria saber para usar esta função (e mais nada)."
   ]
  },
  {
   "cell_type": "code",
   "execution_count": null,
   "metadata": {},
   "outputs": [],
   "source": [
    "# 0\n",
    "\n",
    "# recurse(2, 3 + 0)\n",
    "# recurse(2-1, 2+3=5)\n",
    "# recurse(1-1=0, 6)\n",
    "# print(6)"
   ]
  },
  {
   "cell_type": "code",
   "execution_count": null,
   "metadata": {},
   "outputs": [],
   "source": [
    "# 1\n",
    "# recursão infinita"
   ]
  },
  {
   "cell_type": "code",
   "execution_count": null,
   "metadata": {},
   "outputs": [],
   "source": [
    "# 2\n",
    "def recurse(n, s):\n",
    "    \"\"\"Função recursive com dois parâmetros\n",
    "    \n",
    "    n : número inteiro, positivo para que não haja recursão infinita\n",
    "    \n",
    "    s : qualquer número\n",
    "    \"\"\"\n",
    "    if n == 0:\n",
    "        print(s)\n",
    "    else:\n",
    "        recurse(n-1, n+s)"
   ]
  },
  {
   "cell_type": "markdown",
   "metadata": {},
   "source": [
    "Os seguintes exercícios usam o módulo turtle, descrito no Capítulo 4:"
   ]
  },
  {
   "cell_type": "markdown",
   "metadata": {},
   "source": [
    "## Exercício 5.5\n",
    "\n",
    "Leia a próxima função e veja se consegue compreender o que ela faz (veja os exemplos no Capítulo 4). Então execute-a e veja se acertou.\n",
    "\n",
    "```\n",
    "def draw(t, length, n):\n",
    "    if n == 0:\n",
    "        return\n",
    "    angle = 50\n",
    "    t.fd(length * n)\n",
    "    t.lt(angle)\n",
    "    draw(t, length, n-1)\n",
    "    t.rt(2 * angle)\n",
    "    draw(t, length, n-1)\n",
    "    t.lt(angle)\n",
    "    t.bk(length * n)\n",
    "```"
   ]
  },
  {
   "cell_type": "markdown",
   "metadata": {},
   "source": [
    "## Exercício 5.6\n",
    "\n",
    "![](https://raw.githubusercontent.com/PenseAllen/PensePython2e/master/fig/tnkp_0502.png)\n",
    "\n",
    "A curva de Koch é um fractal que parece com o da Figura 5.2. Para desenhar uma curva de Koch com o comprimento x, tudo o que você tem que fazer é:\n",
    "\n",
    "    1. Desenhe uma curva de Koch com o comprimento x/3.\n",
    "\n",
    "    2. Vire 60 graus à esquerda.\n",
    "\n",
    "    3. Desenhe uma curva de Koch com o comprimento x/3.\n",
    "\n",
    "    4. Vire 120 graus à direita.\n",
    "\n",
    "    5. Desenhe uma curva de Koch com o comprimento x/3.\n",
    "\n",
    "    6. Vire 60 graus à esquerda.\n",
    "\n",
    "    7. Desenhe uma curva de Koch com o comprimento x/3.\n",
    "\n",
    "A exceção é se x for menor que 3: neste caso, você pode desenhar apenas uma linha reta com o comprimento x.\n",
    "\n",
    "    1. Escreva uma função chamada koch que receba um turtle e um comprimento como parâmetros, e use o turtle para desenhar uma curva de Koch com o comprimento dado.\n",
    "\n",
    "    2. Escreva uma função chamada snowflake que desenhe três curvas de Koch para fazer o traçado de um floco de neve.\n"
   ]
  },
  {
   "cell_type": "markdown",
   "metadata": {},
   "source": [
    "# Capítulo 6"
   ]
  },
  {
   "cell_type": "markdown",
   "metadata": {},
   "source": [
    "## Exercício 6.1\n",
    "\n",
    "Desenhe um diagrama da pilha do seguinte programa. O que o programa exibe?\n",
    "\n",
    "```\n",
    "def b(z):\n",
    "    prod = a(z, z)\n",
    "    print(z, prod)\n",
    "    return prod\n",
    "\n",
    "def a(x, y):\n",
    "    x = x + 1\n",
    "    return x * y\n",
    "\n",
    "def c(x, y, z):\n",
    "    total = x + y + z\n",
    "    square = b(total)**2\n",
    "    return square\n",
    "\n",
    "x = 1\n",
    "y = x + 1\n",
    "print(c(x, y+3, x+y))\n",
    "```"
   ]
  },
  {
   "cell_type": "markdown",
   "metadata": {},
   "source": [
    "## Exercício 6.2\n",
    "\n",
    "A função de Ackermann, A(m, n), é definida assim:\n",
    "\n",
    "![](https://raw.githubusercontent.com/PenseAllen/PensePython2e/master/fig/p72f1.png)\n",
    "\n",
    "Veja [Função Ackermann](http://en.wikipedia.org/wiki/Ackermann_function). Escreva uma função denominada ack que avalie a função de Ackermann. Use a sua função para avaliar ack(3, 4), cujo resultado deve ser 125. O que acontece para valores maiores de m e n?"
   ]
  },
  {
   "cell_type": "markdown",
   "metadata": {},
   "source": [
    "## Exercício 6.3\n",
    "\n",
    "Um palíndromo é uma palavra que se soletra da mesma forma nos dois sentidos, como “osso” e “reviver”. Recursivamente, uma palavra é um palíndromo se a primeira e última letras forem iguais e o meio for um palíndromo.\n",
    "\n",
    "As funções seguintes recebem uma string como argumento e retornam as letras iniciais, finais e do meio das palavras:\n",
    "\n",
    "```\n",
    "def first(word):\n",
    "    return word[0]\n",
    "def last(word):\n",
    "    return word[-1]\n",
    "def middle(word):\n",
    "    return word[1:-1]\n",
    "    ```\n",
    "\n",
    "Veremos como funcionam no Capítulo 8.\n",
    "\n",
    "    1. Digite essas funções em um arquivo chamado palindrome.py e teste-as. O que acontece se chamar middle com uma string de duas letras? Uma letra? E se a string estiver vazia, escrita com '' e não contiver nenhuma letra?\n",
    "\n",
    "    2. Escreva uma função chamada is_palindrome que receba uma string como argumento e retorne True se for um palíndromo e False se não for. Lembre-se de que você pode usar a função integrada len para verificar o comprimento de uma string.\n"
   ]
  },
  {
   "cell_type": "markdown",
   "metadata": {},
   "source": [
    "## Exercício 6.4\n",
    "\n",
    "Um número a é uma potência de b se for divisível por b e a/b for uma potência de b. Escreva uma função chamada is_power que receba os parâmetros a e b e retorne True se a for uma potência de b. Dica: pense no caso-base."
   ]
  },
  {
   "cell_type": "markdown",
   "metadata": {},
   "source": [
    "## Exercício 6.5\n",
    "\n",
    "O maior divisor comum (MDC, ou GCD em inglês) de a e b é o maior número que divide ambos sem sobrar resto.\n",
    "\n",
    "Um modo de encontrar o MDC de dois números é observar qual é o resto r quando a é dividido por b, verificando que gcd(a, b) = gcd(b, r). Como caso-base, podemos usar gcd(a, 0) = a.\n",
    "\n",
    "Escreva uma função chamada gcd que receba os parâmetros a e b e devolva o maior divisor comum.\n",
    "\n",
    "Crédito: Este exercício é baseado em um exemplo do livro de Abelson e Sussman, Structure and Interpretation of Computer Programs (Estrutura e interpretação de programas de computador, MIT Press, 1996)."
   ]
  },
  {
   "cell_type": "markdown",
   "metadata": {},
   "source": [
    "# Capítulo 7"
   ]
  },
  {
   "cell_type": "markdown",
   "metadata": {},
   "source": [
    "## Exercício 7.1\n",
    "\n",
    "Copie o loop de “Raízes quadradas”, na página 111, e encapsule-o em uma função chamada mysqrt que receba a como parâmetro, escolha um valor razoável de x e devolva uma estimativa da raiz quadrada de a.\n",
    "\n",
    "Para testar, escreva uma função denominada test_square_root, que exibe uma tabela como esta:\n",
    "\n",
    "```\n",
    "a   mysqrt(a)     math.sqrt(a)  diff\n",
    "-   ---------     ------------  ----\n",
    "1.0 1.0           1.0           0.0\n",
    "2.0 1.41421356237 1.41421356237 2.22044604925e-16\n",
    "3.0 1.73205080757 1.73205080757 0.0\n",
    "4.0 2.0           2.0           0.0\n",
    "5.0 2.2360679775  2.2360679775  0.0\n",
    "6.0 2.44948974278 2.44948974278 0.0\n",
    "7.0 2.64575131106 2.64575131106 0.0\n",
    "8.0 2.82842712475 2.82842712475 4.4408920985e-16\n",
    "9.0 3.0           3.0           0.0\n",
    "```\n",
    "\n",
    "A primeira coluna é um número, a; a segunda coluna é a raiz quadrada de a calculada com mysqrt; a terceira coluna é a raiz quadrada calculada por math.sqrt; a quarta coluna é o valor absoluto da diferença entre as duas estimativas."
   ]
  },
  {
   "cell_type": "markdown",
   "metadata": {},
   "source": [
    "## Exercício 7.2\n",
    "\n",
    "A função integrada eval toma uma string e a avalia, usando o interpretador do Python. Por exemplo:\n",
    "\n",
    "```\n",
    ">>> eval('1 + 2 * 3')\n",
    "7\n",
    ">>> import math\n",
    ">>> eval('math.sqrt(5)')\n",
    "2.2360679774997898\n",
    ">>> eval('type(math.pi)')\n",
    "<class 'float'>\n",
    "```\n",
    "\n",
    "Escreva uma função chamada eval_loop que iterativamente peça uma entrada ao usuário, a avalie usando eval e exiba o resultado.\n",
    "\n",
    "Ela deve continuar até que o usuário digite done; então deverá exibir o valor da última expressão avaliada."
   ]
  },
  {
   "cell_type": "markdown",
   "metadata": {},
   "source": [
    "## Exercício 7.3\n",
    "\n",
    "O matemático Srinivasa Ramanujan encontrou uma série infinita que pode ser usada para gerar uma aproximação numérica de 1/π:\n",
    "\n",
    "![](https://raw.githubusercontent.com/PenseAllen/PensePython2e/master/fig/p83f1.png)\n",
    "\n",
    "Escreva uma função chamada estimate_pi que use esta fórmula para computar e devolver uma estimativa de π. Você deve usar o loop while para calcular os termos da adição até que o último termo seja menor que 1e-15 (que é a notação do Python para 10 ** 15). Você pode verificar o resultado comparando-o com math.pi."
   ]
  }
 ],
 "metadata": {
  "kernelspec": {
   "display_name": "Python 3",
   "language": "python",
   "name": "python3"
  },
  "language_info": {
   "codemirror_mode": {
    "name": "ipython",
    "version": 3
   },
   "file_extension": ".py",
   "mimetype": "text/x-python",
   "name": "python",
   "nbconvert_exporter": "python",
   "pygments_lexer": "ipython3",
   "version": "3.7.6"
  }
 },
 "nbformat": 4,
 "nbformat_minor": 4
}
