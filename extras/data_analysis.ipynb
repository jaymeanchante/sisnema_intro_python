{
 "cells": [
  {
   "cell_type": "markdown",
   "metadata": {},
   "source": [
    "# Base de dados\n",
    "\n",
    "Baixem a base de dados de [recorded mundiais](https://vincentarelbundock.github.io/Rdatasets/csv/DAAG/worldRecords.csv) e coloquem o arquivo na mesma pasta que este notebook\n",
    "\n",
    "Vamos utilizar [pandas](https://pandas.pydata.org/) para processamento de dados e [matplotlib](https://matplotlib.org/) para plotar gráficos\n"
   ]
  },
  {
   "cell_type": "code",
   "execution_count": 1,
   "metadata": {},
   "outputs": [],
   "source": [
    "# awesome code"
   ]
  },
  {
   "cell_type": "markdown",
   "metadata": {},
   "source": [
    "# Análise de dados\n",
    "\n",
    "Usando sqlite3 e scikit-learn.\n",
    "\n",
    "Desafio: construa uma heurística que receba como input os atributos da flores iris e retorne a espécie da iris."
   ]
  },
  {
   "cell_type": "code",
   "execution_count": null,
   "metadata": {},
   "outputs": [],
   "source": [
    "# awesome analysis"
   ]
  }
 ],
 "metadata": {
  "kernelspec": {
   "display_name": "Python 3",
   "language": "python",
   "name": "python3"
  },
  "language_info": {
   "codemirror_mode": {
    "name": "ipython",
    "version": 3
   },
   "file_extension": ".py",
   "mimetype": "text/x-python",
   "name": "python",
   "nbconvert_exporter": "python",
   "pygments_lexer": "ipython3",
   "version": "3.7.6"
  }
 },
 "nbformat": 4,
 "nbformat_minor": 4
}
