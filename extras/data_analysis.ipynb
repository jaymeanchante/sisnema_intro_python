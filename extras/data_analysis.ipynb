{
 "cells": [
  {
   "cell_type": "markdown",
   "metadata": {},
   "source": [
    "# Base de dados\n",
    "\n",
    "Baixem a base de dados de [recorded mundiais](https://vincentarelbundock.github.io/Rdatasets/csv/DAAG/worldRecords.csv) e coloquem o arquivo na mesma pasta que este notebook\n",
    "\n",
    "Vamos utilizar [pandas](https://pandas.pydata.org/) para processamento de dados e [matplotlib](https://matplotlib.org/) para plotar gráficos\n"
   ]
  },
  {
   "cell_type": "code",
   "execution_count": 1,
   "metadata": {},
   "outputs": [],
   "source": [
    "import pandas as pd"
   ]
  },
  {
   "cell_type": "code",
   "execution_count": 2,
   "metadata": {},
   "outputs": [
    {
     "data": {
      "text/plain": [
       "'1.0.1'"
      ]
     },
     "execution_count": 2,
     "metadata": {},
     "output_type": "execute_result"
    }
   ],
   "source": [
    "pd.__version__"
   ]
  },
  {
   "cell_type": "code",
   "execution_count": 3,
   "metadata": {},
   "outputs": [],
   "source": [
    "link = \"https://vincentarelbundock.github.io/Rdatasets/csv/DAAG/worldRecords.csv\"\n",
    "df = pd.read_csv(filepath_or_buffer=link)"
   ]
  },
  {
   "cell_type": "code",
   "execution_count": 4,
   "metadata": {},
   "outputs": [
    {
     "data": {
      "text/plain": [
       "pandas.core.frame.DataFrame"
      ]
     },
     "execution_count": 4,
     "metadata": {},
     "output_type": "execute_result"
    }
   ],
   "source": [
    "type(df)"
   ]
  },
  {
   "cell_type": "code",
   "execution_count": 6,
   "metadata": {},
   "outputs": [
    {
     "data": {
      "text/html": [
       "<div>\n",
       "<style scoped>\n",
       "    .dataframe tbody tr th:only-of-type {\n",
       "        vertical-align: middle;\n",
       "    }\n",
       "\n",
       "    .dataframe tbody tr th {\n",
       "        vertical-align: top;\n",
       "    }\n",
       "\n",
       "    .dataframe thead th {\n",
       "        text-align: right;\n",
       "    }\n",
       "</style>\n",
       "<table border=\"1\" class=\"dataframe\">\n",
       "  <thead>\n",
       "    <tr style=\"text-align: right;\">\n",
       "      <th></th>\n",
       "      <th>Unnamed: 0</th>\n",
       "      <th>Distance</th>\n",
       "      <th>roadORtrack</th>\n",
       "      <th>Place</th>\n",
       "      <th>Time</th>\n",
       "      <th>Date</th>\n",
       "    </tr>\n",
       "  </thead>\n",
       "  <tbody>\n",
       "    <tr>\n",
       "      <th>0</th>\n",
       "      <td>1</td>\n",
       "      <td>0.10</td>\n",
       "      <td>track</td>\n",
       "      <td>Athens</td>\n",
       "      <td>0.162833</td>\n",
       "      <td>2005-06-14</td>\n",
       "    </tr>\n",
       "    <tr>\n",
       "      <th>1</th>\n",
       "      <td>2</td>\n",
       "      <td>0.15</td>\n",
       "      <td>track</td>\n",
       "      <td>Cassino</td>\n",
       "      <td>0.246667</td>\n",
       "      <td>1983-05-22</td>\n",
       "    </tr>\n",
       "    <tr>\n",
       "      <th>2</th>\n",
       "      <td>3</td>\n",
       "      <td>0.20</td>\n",
       "      <td>track</td>\n",
       "      <td>Atlanta</td>\n",
       "      <td>0.322000</td>\n",
       "      <td>1996-08-01</td>\n",
       "    </tr>\n",
       "    <tr>\n",
       "      <th>3</th>\n",
       "      <td>4</td>\n",
       "      <td>0.30</td>\n",
       "      <td>track</td>\n",
       "      <td>Pretoria</td>\n",
       "      <td>0.514167</td>\n",
       "      <td>2000-03-24</td>\n",
       "    </tr>\n",
       "    <tr>\n",
       "      <th>4</th>\n",
       "      <td>5</td>\n",
       "      <td>0.40</td>\n",
       "      <td>track</td>\n",
       "      <td>Seville</td>\n",
       "      <td>0.719667</td>\n",
       "      <td>1999-08-26</td>\n",
       "    </tr>\n",
       "  </tbody>\n",
       "</table>\n",
       "</div>"
      ],
      "text/plain": [
       "   Unnamed: 0  Distance roadORtrack     Place      Time        Date\n",
       "0           1      0.10       track    Athens  0.162833  2005-06-14\n",
       "1           2      0.15       track   Cassino  0.246667  1983-05-22\n",
       "2           3      0.20       track   Atlanta  0.322000  1996-08-01\n",
       "3           4      0.30       track  Pretoria  0.514167  2000-03-24\n",
       "4           5      0.40       track   Seville  0.719667  1999-08-26"
      ]
     },
     "execution_count": 6,
     "metadata": {},
     "output_type": "execute_result"
    }
   ],
   "source": [
    "df.head()"
   ]
  },
  {
   "cell_type": "code",
   "execution_count": 7,
   "metadata": {},
   "outputs": [
    {
     "data": {
      "text/html": [
       "<div>\n",
       "<style scoped>\n",
       "    .dataframe tbody tr th:only-of-type {\n",
       "        vertical-align: middle;\n",
       "    }\n",
       "\n",
       "    .dataframe tbody tr th {\n",
       "        vertical-align: top;\n",
       "    }\n",
       "\n",
       "    .dataframe thead th {\n",
       "        text-align: right;\n",
       "    }\n",
       "</style>\n",
       "<table border=\"1\" class=\"dataframe\">\n",
       "  <thead>\n",
       "    <tr style=\"text-align: right;\">\n",
       "      <th></th>\n",
       "      <th>Unnamed: 0</th>\n",
       "      <th>Distance</th>\n",
       "      <th>roadORtrack</th>\n",
       "      <th>Place</th>\n",
       "      <th>Time</th>\n",
       "      <th>Date</th>\n",
       "    </tr>\n",
       "  </thead>\n",
       "  <tbody>\n",
       "    <tr>\n",
       "      <th>35</th>\n",
       "      <td>36</td>\n",
       "      <td>32.180</td>\n",
       "      <td>road</td>\n",
       "      <td>Chicago</td>\n",
       "      <td>95.366667</td>\n",
       "      <td>1985-10-20</td>\n",
       "    </tr>\n",
       "    <tr>\n",
       "      <th>36</th>\n",
       "      <td>37</td>\n",
       "      <td>50.000</td>\n",
       "      <td>road</td>\n",
       "      <td>Claremont-Kirstenbosch</td>\n",
       "      <td>163.633333</td>\n",
       "      <td>1988-04-12</td>\n",
       "    </tr>\n",
       "    <tr>\n",
       "      <th>37</th>\n",
       "      <td>38</td>\n",
       "      <td>100.000</td>\n",
       "      <td>road</td>\n",
       "      <td>Lake Saroma</td>\n",
       "      <td>373.550000</td>\n",
       "      <td>1998-06-21</td>\n",
       "    </tr>\n",
       "    <tr>\n",
       "      <th>38</th>\n",
       "      <td>39</td>\n",
       "      <td>160.900</td>\n",
       "      <td>road</td>\n",
       "      <td>New York</td>\n",
       "      <td>706.616667</td>\n",
       "      <td>1984-05-08</td>\n",
       "    </tr>\n",
       "    <tr>\n",
       "      <th>39</th>\n",
       "      <td>40</td>\n",
       "      <td>290.221</td>\n",
       "      <td>road</td>\n",
       "      <td>Basle</td>\n",
       "      <td>1440.000000</td>\n",
       "      <td>1998-05-03</td>\n",
       "    </tr>\n",
       "  </tbody>\n",
       "</table>\n",
       "</div>"
      ],
      "text/plain": [
       "    Unnamed: 0  Distance roadORtrack                   Place         Time  \\\n",
       "35          36    32.180        road                 Chicago    95.366667   \n",
       "36          37    50.000        road  Claremont-Kirstenbosch   163.633333   \n",
       "37          38   100.000        road             Lake Saroma   373.550000   \n",
       "38          39   160.900        road                New York   706.616667   \n",
       "39          40   290.221        road                   Basle  1440.000000   \n",
       "\n",
       "          Date  \n",
       "35  1985-10-20  \n",
       "36  1988-04-12  \n",
       "37  1998-06-21  \n",
       "38  1984-05-08  \n",
       "39  1998-05-03  "
      ]
     },
     "execution_count": 7,
     "metadata": {},
     "output_type": "execute_result"
    }
   ],
   "source": [
    "df.tail()"
   ]
  },
  {
   "cell_type": "code",
   "execution_count": 10,
   "metadata": {},
   "outputs": [
    {
     "data": {
      "text/plain": [
       "0      Athens\n",
       "1     Cassino\n",
       "2     Atlanta\n",
       "3    Pretoria\n",
       "4     Seville\n",
       "Name: Place, dtype: object"
      ]
     },
     "execution_count": 10,
     "metadata": {},
     "output_type": "execute_result"
    }
   ],
   "source": [
    "# selecionar colunas\n",
    "place = df[\"Place\"].head()\n",
    "place"
   ]
  },
  {
   "cell_type": "code",
   "execution_count": 11,
   "metadata": {},
   "outputs": [
    {
     "data": {
      "text/plain": [
       "pandas.core.series.Series"
      ]
     },
     "execution_count": 11,
     "metadata": {},
     "output_type": "execute_result"
    }
   ],
   "source": [
    "type(place)"
   ]
  },
  {
   "cell_type": "code",
   "execution_count": 14,
   "metadata": {},
   "outputs": [
    {
     "data": {
      "text/html": [
       "<div>\n",
       "<style scoped>\n",
       "    .dataframe tbody tr th:only-of-type {\n",
       "        vertical-align: middle;\n",
       "    }\n",
       "\n",
       "    .dataframe tbody tr th {\n",
       "        vertical-align: top;\n",
       "    }\n",
       "\n",
       "    .dataframe thead th {\n",
       "        text-align: right;\n",
       "    }\n",
       "</style>\n",
       "<table border=\"1\" class=\"dataframe\">\n",
       "  <thead>\n",
       "    <tr style=\"text-align: right;\">\n",
       "      <th></th>\n",
       "      <th>Place</th>\n",
       "      <th>Time</th>\n",
       "    </tr>\n",
       "  </thead>\n",
       "  <tbody>\n",
       "    <tr>\n",
       "      <th>0</th>\n",
       "      <td>Athens</td>\n",
       "      <td>0.162833</td>\n",
       "    </tr>\n",
       "    <tr>\n",
       "      <th>1</th>\n",
       "      <td>Cassino</td>\n",
       "      <td>0.246667</td>\n",
       "    </tr>\n",
       "    <tr>\n",
       "      <th>2</th>\n",
       "      <td>Atlanta</td>\n",
       "      <td>0.322000</td>\n",
       "    </tr>\n",
       "    <tr>\n",
       "      <th>3</th>\n",
       "      <td>Pretoria</td>\n",
       "      <td>0.514167</td>\n",
       "    </tr>\n",
       "    <tr>\n",
       "      <th>4</th>\n",
       "      <td>Seville</td>\n",
       "      <td>0.719667</td>\n",
       "    </tr>\n",
       "  </tbody>\n",
       "</table>\n",
       "</div>"
      ],
      "text/plain": [
       "      Place      Time\n",
       "0    Athens  0.162833\n",
       "1   Cassino  0.246667\n",
       "2   Atlanta  0.322000\n",
       "3  Pretoria  0.514167\n",
       "4   Seville  0.719667"
      ]
     },
     "execution_count": 14,
     "metadata": {},
     "output_type": "execute_result"
    }
   ],
   "source": [
    "# selecionar colunas\n",
    "# lista das colunas que eu desejo selecionar\n",
    "lista_colunas = [\"Place\", \"Time\"]\n",
    "df[lista_colunas].head()"
   ]
  },
  {
   "cell_type": "code",
   "execution_count": 15,
   "metadata": {},
   "outputs": [
    {
     "data": {
      "text/html": [
       "<div>\n",
       "<style scoped>\n",
       "    .dataframe tbody tr th:only-of-type {\n",
       "        vertical-align: middle;\n",
       "    }\n",
       "\n",
       "    .dataframe tbody tr th {\n",
       "        vertical-align: top;\n",
       "    }\n",
       "\n",
       "    .dataframe thead th {\n",
       "        text-align: right;\n",
       "    }\n",
       "</style>\n",
       "<table border=\"1\" class=\"dataframe\">\n",
       "  <thead>\n",
       "    <tr style=\"text-align: right;\">\n",
       "      <th></th>\n",
       "      <th>Unnamed: 0</th>\n",
       "      <th>Distance</th>\n",
       "      <th>Time</th>\n",
       "    </tr>\n",
       "  </thead>\n",
       "  <tbody>\n",
       "    <tr>\n",
       "      <th>count</th>\n",
       "      <td>40.000000</td>\n",
       "      <td>40.000000</td>\n",
       "      <td>40.000000</td>\n",
       "    </tr>\n",
       "    <tr>\n",
       "      <th>mean</th>\n",
       "      <td>20.500000</td>\n",
       "      <td>32.112725</td>\n",
       "      <td>125.179650</td>\n",
       "    </tr>\n",
       "    <tr>\n",
       "      <th>std</th>\n",
       "      <td>11.690452</td>\n",
       "      <td>57.754637</td>\n",
       "      <td>270.567770</td>\n",
       "    </tr>\n",
       "    <tr>\n",
       "      <th>min</th>\n",
       "      <td>1.000000</td>\n",
       "      <td>0.100000</td>\n",
       "      <td>0.162833</td>\n",
       "    </tr>\n",
       "    <tr>\n",
       "      <th>25%</th>\n",
       "      <td>10.750000</td>\n",
       "      <td>1.581750</td>\n",
       "      <td>3.647458</td>\n",
       "    </tr>\n",
       "    <tr>\n",
       "      <th>50%</th>\n",
       "      <td>20.500000</td>\n",
       "      <td>10.000000</td>\n",
       "      <td>26.662750</td>\n",
       "    </tr>\n",
       "    <tr>\n",
       "      <th>75%</th>\n",
       "      <td>30.250000</td>\n",
       "      <td>30.000000</td>\n",
       "      <td>88.328333</td>\n",
       "    </tr>\n",
       "    <tr>\n",
       "      <th>max</th>\n",
       "      <td>40.000000</td>\n",
       "      <td>290.221000</td>\n",
       "      <td>1440.000000</td>\n",
       "    </tr>\n",
       "  </tbody>\n",
       "</table>\n",
       "</div>"
      ],
      "text/plain": [
       "       Unnamed: 0    Distance         Time\n",
       "count   40.000000   40.000000    40.000000\n",
       "mean    20.500000   32.112725   125.179650\n",
       "std     11.690452   57.754637   270.567770\n",
       "min      1.000000    0.100000     0.162833\n",
       "25%     10.750000    1.581750     3.647458\n",
       "50%     20.500000   10.000000    26.662750\n",
       "75%     30.250000   30.000000    88.328333\n",
       "max     40.000000  290.221000  1440.000000"
      ]
     },
     "execution_count": 15,
     "metadata": {},
     "output_type": "execute_result"
    }
   ],
   "source": [
    "df.describe()"
   ]
  },
  {
   "cell_type": "code",
   "execution_count": 17,
   "metadata": {},
   "outputs": [
    {
     "data": {
      "text/plain": [
       "0    0.162833\n",
       "1    0.246667\n",
       "2    0.322000\n",
       "3    0.514167\n",
       "4    0.719667\n",
       "Name: Time, dtype: float64"
      ]
     },
     "execution_count": 17,
     "metadata": {},
     "output_type": "execute_result"
    }
   ],
   "source": [
    "time = df[\"Time\"]\n",
    "time.head()"
   ]
  },
  {
   "cell_type": "code",
   "execution_count": 19,
   "metadata": {},
   "outputs": [],
   "source": [
    "max_time = time.max()"
   ]
  },
  {
   "cell_type": "code",
   "execution_count": 21,
   "metadata": {},
   "outputs": [
    {
     "data": {
      "text/html": [
       "<div>\n",
       "<style scoped>\n",
       "    .dataframe tbody tr th:only-of-type {\n",
       "        vertical-align: middle;\n",
       "    }\n",
       "\n",
       "    .dataframe tbody tr th {\n",
       "        vertical-align: top;\n",
       "    }\n",
       "\n",
       "    .dataframe thead th {\n",
       "        text-align: right;\n",
       "    }\n",
       "</style>\n",
       "<table border=\"1\" class=\"dataframe\">\n",
       "  <thead>\n",
       "    <tr style=\"text-align: right;\">\n",
       "      <th></th>\n",
       "      <th>Unnamed: 0</th>\n",
       "      <th>Distance</th>\n",
       "      <th>roadORtrack</th>\n",
       "      <th>Place</th>\n",
       "      <th>Time</th>\n",
       "      <th>Date</th>\n",
       "    </tr>\n",
       "  </thead>\n",
       "  <tbody>\n",
       "    <tr>\n",
       "      <th>39</th>\n",
       "      <td>40</td>\n",
       "      <td>290.221</td>\n",
       "      <td>road</td>\n",
       "      <td>Basle</td>\n",
       "      <td>1440.0</td>\n",
       "      <td>1998-05-03</td>\n",
       "    </tr>\n",
       "  </tbody>\n",
       "</table>\n",
       "</div>"
      ],
      "text/plain": [
       "    Unnamed: 0  Distance roadORtrack  Place    Time        Date\n",
       "39          40   290.221        road  Basle  1440.0  1998-05-03"
      ]
     },
     "execution_count": 21,
     "metadata": {},
     "output_type": "execute_result"
    }
   ],
   "source": [
    "linha_com_max_time = df[df[\"Time\"] == max_time]\n",
    "linha_com_max_time"
   ]
  },
  {
   "cell_type": "code",
   "execution_count": 24,
   "metadata": {},
   "outputs": [
    {
     "data": {
      "text/plain": [
       "39    Basle\n",
       "Name: Place, dtype: object"
      ]
     },
     "execution_count": 24,
     "metadata": {},
     "output_type": "execute_result"
    }
   ],
   "source": [
    "place_com_max_time = df.loc[df[\"Time\"] == max_time, \"Place\"]\n",
    "place_com_max_time"
   ]
  },
  {
   "cell_type": "code",
   "execution_count": 40,
   "metadata": {},
   "outputs": [
    {
     "data": {
      "text/html": [
       "<div>\n",
       "<style scoped>\n",
       "    .dataframe tbody tr th:only-of-type {\n",
       "        vertical-align: middle;\n",
       "    }\n",
       "\n",
       "    .dataframe tbody tr th {\n",
       "        vertical-align: top;\n",
       "    }\n",
       "\n",
       "    .dataframe thead th {\n",
       "        text-align: right;\n",
       "    }\n",
       "</style>\n",
       "<table border=\"1\" class=\"dataframe\">\n",
       "  <thead>\n",
       "    <tr style=\"text-align: right;\">\n",
       "      <th></th>\n",
       "      <th>Unnamed: 0</th>\n",
       "      <th>Distance</th>\n",
       "      <th>roadORtrack</th>\n",
       "      <th>Place</th>\n",
       "      <th>Time</th>\n",
       "      <th>Date</th>\n",
       "      <th>Speed</th>\n",
       "    </tr>\n",
       "  </thead>\n",
       "  <tbody>\n",
       "    <tr>\n",
       "      <th>35</th>\n",
       "      <td>36</td>\n",
       "      <td>32.18</td>\n",
       "      <td>road</td>\n",
       "      <td>Chicago</td>\n",
       "      <td>95.366667</td>\n",
       "      <td>1985-10-20</td>\n",
       "      <td>0.337434</td>\n",
       "    </tr>\n",
       "  </tbody>\n",
       "</table>\n",
       "</div>"
      ],
      "text/plain": [
       "    Unnamed: 0  Distance roadORtrack    Place       Time        Date     Speed\n",
       "35          36     32.18        road  Chicago  95.366667  1985-10-20  0.337434"
      ]
     },
     "execution_count": 40,
     "metadata": {},
     "output_type": "execute_result"
    }
   ],
   "source": [
    "cidade_a_selecionar = \"Chicago\"\n",
    "linha_chicago = df[df[\"Place\"] == cidade_a_selecionar]\n",
    "linha_chicago"
   ]
  },
  {
   "cell_type": "code",
   "execution_count": 28,
   "metadata": {},
   "outputs": [],
   "source": [
    "df[\"Speed\"] = df[\"Distance\"] / df[\"Time\"]"
   ]
  },
  {
   "cell_type": "code",
   "execution_count": 29,
   "metadata": {},
   "outputs": [
    {
     "data": {
      "text/html": [
       "<div>\n",
       "<style scoped>\n",
       "    .dataframe tbody tr th:only-of-type {\n",
       "        vertical-align: middle;\n",
       "    }\n",
       "\n",
       "    .dataframe tbody tr th {\n",
       "        vertical-align: top;\n",
       "    }\n",
       "\n",
       "    .dataframe thead th {\n",
       "        text-align: right;\n",
       "    }\n",
       "</style>\n",
       "<table border=\"1\" class=\"dataframe\">\n",
       "  <thead>\n",
       "    <tr style=\"text-align: right;\">\n",
       "      <th></th>\n",
       "      <th>Unnamed: 0</th>\n",
       "      <th>Distance</th>\n",
       "      <th>roadORtrack</th>\n",
       "      <th>Place</th>\n",
       "      <th>Time</th>\n",
       "      <th>Date</th>\n",
       "      <th>Speed</th>\n",
       "    </tr>\n",
       "  </thead>\n",
       "  <tbody>\n",
       "    <tr>\n",
       "      <th>0</th>\n",
       "      <td>1</td>\n",
       "      <td>0.10</td>\n",
       "      <td>track</td>\n",
       "      <td>Athens</td>\n",
       "      <td>0.162833</td>\n",
       "      <td>2005-06-14</td>\n",
       "      <td>0.614125</td>\n",
       "    </tr>\n",
       "    <tr>\n",
       "      <th>1</th>\n",
       "      <td>2</td>\n",
       "      <td>0.15</td>\n",
       "      <td>track</td>\n",
       "      <td>Cassino</td>\n",
       "      <td>0.246667</td>\n",
       "      <td>1983-05-22</td>\n",
       "      <td>0.608108</td>\n",
       "    </tr>\n",
       "    <tr>\n",
       "      <th>2</th>\n",
       "      <td>3</td>\n",
       "      <td>0.20</td>\n",
       "      <td>track</td>\n",
       "      <td>Atlanta</td>\n",
       "      <td>0.322000</td>\n",
       "      <td>1996-08-01</td>\n",
       "      <td>0.621118</td>\n",
       "    </tr>\n",
       "    <tr>\n",
       "      <th>3</th>\n",
       "      <td>4</td>\n",
       "      <td>0.30</td>\n",
       "      <td>track</td>\n",
       "      <td>Pretoria</td>\n",
       "      <td>0.514167</td>\n",
       "      <td>2000-03-24</td>\n",
       "      <td>0.583468</td>\n",
       "    </tr>\n",
       "    <tr>\n",
       "      <th>4</th>\n",
       "      <td>5</td>\n",
       "      <td>0.40</td>\n",
       "      <td>track</td>\n",
       "      <td>Seville</td>\n",
       "      <td>0.719667</td>\n",
       "      <td>1999-08-26</td>\n",
       "      <td>0.555813</td>\n",
       "    </tr>\n",
       "  </tbody>\n",
       "</table>\n",
       "</div>"
      ],
      "text/plain": [
       "   Unnamed: 0  Distance roadORtrack     Place      Time        Date     Speed\n",
       "0           1      0.10       track    Athens  0.162833  2005-06-14  0.614125\n",
       "1           2      0.15       track   Cassino  0.246667  1983-05-22  0.608108\n",
       "2           3      0.20       track   Atlanta  0.322000  1996-08-01  0.621118\n",
       "3           4      0.30       track  Pretoria  0.514167  2000-03-24  0.583468\n",
       "4           5      0.40       track   Seville  0.719667  1999-08-26  0.555813"
      ]
     },
     "execution_count": 29,
     "metadata": {},
     "output_type": "execute_result"
    }
   ],
   "source": [
    "df.head()"
   ]
  },
  {
   "cell_type": "code",
   "execution_count": 30,
   "metadata": {},
   "outputs": [],
   "source": [
    "df.to_csv(\"recordes_mundiais.csv\")"
   ]
  },
  {
   "cell_type": "code",
   "execution_count": 32,
   "metadata": {},
   "outputs": [
    {
     "data": {
      "text/plain": [
       "<pandas.core.groupby.generic.DataFrameGroupBy object at 0x000001FA72417EC8>"
      ]
     },
     "execution_count": 32,
     "metadata": {},
     "output_type": "execute_result"
    }
   ],
   "source": [
    "group = df.groupby(\"roadORtrack\")\n",
    "group"
   ]
  },
  {
   "cell_type": "code",
   "execution_count": 34,
   "metadata": {},
   "outputs": [
    {
     "data": {
      "text/plain": [
       "roadORtrack\n",
       "road     16\n",
       "track    24\n",
       "Name: Distance, dtype: int64"
      ]
     },
     "execution_count": 34,
     "metadata": {},
     "output_type": "execute_result"
    }
   ],
   "source": [
    "road_or_track = group[\"Distance\"].count()\n",
    "road_or_track"
   ]
  },
  {
   "cell_type": "code",
   "execution_count": 25,
   "metadata": {},
   "outputs": [],
   "source": [
    "import matplotlib.pyplot as plt"
   ]
  },
  {
   "cell_type": "code",
   "execution_count": 37,
   "metadata": {},
   "outputs": [
    {
     "data": {
      "text/plain": [
       "[<matplotlib.lines.Line2D at 0x1fa723a4688>]"
      ]
     },
     "execution_count": 37,
     "metadata": {},
     "output_type": "execute_result"
    },
    {
     "data": {
      "image/png": "[encoded data removed]",
      "text/plain": [
       "<Figure size 432x288 with 1 Axes>"
      ]
     },
     "metadata": {
      "needs_background": "light"
     },
     "output_type": "display_data"
    }
   ],
   "source": [
    "recordes_ordenados = df.sort_values(\"Date\")\n",
    "plt.plot(recordes_ordenados[\"Date\"], recordes_ordenados[\"Speed\"])"
   ]
  },
  {
   "cell_type": "code",
   "execution_count": 35,
   "metadata": {},
   "outputs": [
    {
     "data": {
      "text/plain": [
       "<BarContainer object of 2 artists>"
      ]
     },
     "execution_count": 35,
     "metadata": {},
     "output_type": "execute_result"
    },
    {
     "data": {
      "image/png": "[encoded data removed]",
      "text/plain": [
       "<Figure size 432x288 with 1 Axes>"
      ]
     },
     "metadata": {
      "needs_background": "light"
     },
     "output_type": "display_data"
    }
   ],
   "source": [
    "plt.bar(x=[\"road\", \"track\"], height=road_or_track)"
   ]
  },
  {
   "cell_type": "code",
   "execution_count": 26,
   "metadata": {},
   "outputs": [
    {
     "data": {
      "text/plain": [
       "(array([29.,  5.,  1.,  2.,  0.,  2.,  0.,  0.,  0.,  1.]),\n",
       " array([1.000000e-01, 2.911210e+01, 5.812420e+01, 8.713630e+01,\n",
       "        1.161484e+02, 1.451605e+02, 1.741726e+02, 2.031847e+02,\n",
       "        2.321968e+02, 2.612089e+02, 2.902210e+02]),\n",
       " <a list of 10 Patch objects>)"
      ]
     },
     "execution_count": 26,
     "metadata": {},
     "output_type": "execute_result"
    },
    {
     "data": {
      "image/png": "[encoded data removed]",
      "text/plain": [
       "<Figure size 432x288 with 1 Axes>"
      ]
     },
     "metadata": {
      "needs_background": "light"
     },
     "output_type": "display_data"
    }
   ],
   "source": [
    "plt.hist(df[\"Distance\"])"
   ]
  },
  {
   "cell_type": "markdown",
   "metadata": {},
   "source": [
    "# Análise de dados\n",
    "\n",
    "Usando sqlite3 e scikit-learn.\n",
    "\n",
    "Desafio: construa uma heurística que receba como input os atributos da flores iris e retorne a espécie da iris."
   ]
  },
  {
   "cell_type": "code",
   "execution_count": 53,
   "metadata": {
    "scrolled": true
   },
   "outputs": [
    {
     "name": "stderr",
     "output_type": "stream",
     "text": [
      "C:\\Users\\jayme.anchante\\Anaconda3\\lib\\site-packages\\pandas\\core\\generic.py:2663: UserWarning: The spaces in these column names will not be changed. In pandas versions < 0.14, spaces were converted to underscores.\n",
      "  method=method,\n"
     ]
    }
   ],
   "source": [
    "import pandas as pd\n",
    "from sklearn.datasets import load_iris\n",
    "\n",
    "# load data\n",
    "iris = load_iris()\n",
    "X = pd.DataFrame(iris.data, columns=iris.feature_names)\n",
    "y = pd.DataFrame({\"iris\": iris.target})\n",
    "y.loc[:, \"iris\"] = y[\"iris\"].apply(lambda x: iris.target_names[x])\n",
    "df = pd.concat([X, y], axis=1)\n",
    "# resampling\n",
    "df = df.sample(frac=1).sample(frac=1).reset_index(drop=True).reset_index().rename(columns={\"index\": \"id\"})\n",
    "# splitting\n",
    "test = df[:15].copy()\n",
    "test_answers = test[[\"id\", \"iris\"]]\n",
    "del test[\"iris\"]\n",
    "valid = df[15:45].copy()\n",
    "train = df[45:].copy()\n",
    "# dump to database\n",
    "conn = sqlite3.connect(\"iris.sqlite\")\n",
    "test.to_sql(name=\"test\", con=conn, if_exists=\"replace\", index=False)\n",
    "test_answers.to_sql(name=\"test_answers\", con=conn, if_exists=\"replace\", index=False)\n",
    "valid.to_sql(name=\"valid\", con=conn, if_exists=\"replace\", index=False)\n",
    "train.to_sql(name=\"train\", con=conn, if_exists=\"replace\", index=False)\n",
    "conn.close()"
   ]
  },
  {
   "cell_type": "code",
   "execution_count": 54,
   "metadata": {},
   "outputs": [],
   "source": [
    "import sqlite3\n",
    "import pandas as pd"
   ]
  },
  {
   "cell_type": "code",
   "execution_count": 55,
   "metadata": {},
   "outputs": [
    {
     "data": {
      "text/plain": [
       "<sqlite3.Connection at 0x1fa72037570>"
      ]
     },
     "execution_count": 55,
     "metadata": {},
     "output_type": "execute_result"
    }
   ],
   "source": [
    "conexao = sqlite3.connect(\"iris.sqlite\")\n",
    "conexao"
   ]
  },
  {
   "cell_type": "code",
   "execution_count": 56,
   "metadata": {},
   "outputs": [
    {
     "data": {
      "text/html": [
       "<div>\n",
       "<style scoped>\n",
       "    .dataframe tbody tr th:only-of-type {\n",
       "        vertical-align: middle;\n",
       "    }\n",
       "\n",
       "    .dataframe tbody tr th {\n",
       "        vertical-align: top;\n",
       "    }\n",
       "\n",
       "    .dataframe thead th {\n",
       "        text-align: right;\n",
       "    }\n",
       "</style>\n",
       "<table border=\"1\" class=\"dataframe\">\n",
       "  <thead>\n",
       "    <tr style=\"text-align: right;\">\n",
       "      <th></th>\n",
       "      <th>type</th>\n",
       "      <th>name</th>\n",
       "      <th>tbl_name</th>\n",
       "      <th>rootpage</th>\n",
       "      <th>sql</th>\n",
       "    </tr>\n",
       "  </thead>\n",
       "  <tbody>\n",
       "    <tr>\n",
       "      <th>0</th>\n",
       "      <td>table</td>\n",
       "      <td>test</td>\n",
       "      <td>test</td>\n",
       "      <td>2</td>\n",
       "      <td>CREATE TABLE \"test\" (\\n\"id\" INTEGER,\\n  \"sepal...</td>\n",
       "    </tr>\n",
       "    <tr>\n",
       "      <th>1</th>\n",
       "      <td>table</td>\n",
       "      <td>test_answers</td>\n",
       "      <td>test_answers</td>\n",
       "      <td>7</td>\n",
       "      <td>CREATE TABLE \"test_answers\" (\\n\"id\" INTEGER,\\n...</td>\n",
       "    </tr>\n",
       "    <tr>\n",
       "      <th>2</th>\n",
       "      <td>table</td>\n",
       "      <td>valid</td>\n",
       "      <td>valid</td>\n",
       "      <td>3</td>\n",
       "      <td>CREATE TABLE \"valid\" (\\n\"id\" INTEGER,\\n  \"sepa...</td>\n",
       "    </tr>\n",
       "    <tr>\n",
       "      <th>3</th>\n",
       "      <td>table</td>\n",
       "      <td>train</td>\n",
       "      <td>train</td>\n",
       "      <td>4</td>\n",
       "      <td>CREATE TABLE \"train\" (\\n\"id\" INTEGER,\\n  \"sepa...</td>\n",
       "    </tr>\n",
       "  </tbody>\n",
       "</table>\n",
       "</div>"
      ],
      "text/plain": [
       "    type          name      tbl_name  rootpage  \\\n",
       "0  table          test          test         2   \n",
       "1  table  test_answers  test_answers         7   \n",
       "2  table         valid         valid         3   \n",
       "3  table         train         train         4   \n",
       "\n",
       "                                                 sql  \n",
       "0  CREATE TABLE \"test\" (\\n\"id\" INTEGER,\\n  \"sepal...  \n",
       "1  CREATE TABLE \"test_answers\" (\\n\"id\" INTEGER,\\n...  \n",
       "2  CREATE TABLE \"valid\" (\\n\"id\" INTEGER,\\n  \"sepa...  \n",
       "3  CREATE TABLE \"train\" (\\n\"id\" INTEGER,\\n  \"sepa...  "
      ]
     },
     "execution_count": 56,
     "metadata": {},
     "output_type": "execute_result"
    }
   ],
   "source": [
    "tabelas_existentes = pd.read_sql(\n",
    "    sql=\"SELECT * FROM sqlite_master\",\n",
    "    con=conexao)\n",
    "tabelas_existentes"
   ]
  },
  {
   "cell_type": "code",
   "execution_count": 59,
   "metadata": {},
   "outputs": [
    {
     "data": {
      "text/plain": [
       "(15, 5)"
      ]
     },
     "execution_count": 59,
     "metadata": {},
     "output_type": "execute_result"
    }
   ],
   "source": [
    "test.shape"
   ]
  },
  {
   "cell_type": "code",
   "execution_count": 64,
   "metadata": {},
   "outputs": [
    {
     "data": {
      "text/html": [
       "<div>\n",
       "<style scoped>\n",
       "    .dataframe tbody tr th:only-of-type {\n",
       "        vertical-align: middle;\n",
       "    }\n",
       "\n",
       "    .dataframe tbody tr th {\n",
       "        vertical-align: top;\n",
       "    }\n",
       "\n",
       "    .dataframe thead th {\n",
       "        text-align: right;\n",
       "    }\n",
       "</style>\n",
       "<table border=\"1\" class=\"dataframe\">\n",
       "  <thead>\n",
       "    <tr style=\"text-align: right;\">\n",
       "      <th></th>\n",
       "      <th>id_x</th>\n",
       "      <th>sepal length (cm)</th>\n",
       "      <th>sepal width (cm)</th>\n",
       "      <th>petal length (cm)</th>\n",
       "      <th>petal width (cm)</th>\n",
       "      <th>iris</th>\n",
       "      <th>id_y</th>\n",
       "    </tr>\n",
       "  </thead>\n",
       "  <tbody>\n",
       "  </tbody>\n",
       "</table>\n",
       "</div>"
      ],
      "text/plain": [
       "Empty DataFrame\n",
       "Columns: [id_x, sepal length (cm), sepal width (cm), petal length (cm), petal width (cm), iris, id_y]\n",
       "Index: []"
      ]
     },
     "execution_count": 64,
     "metadata": {},
     "output_type": "execute_result"
    }
   ],
   "source": [
    "\"\"\"\n",
    "SELECT train.iris,\n",
    "FROM train\n",
    "INNER JOIN test\n",
    "ON\n",
    "    train.sepal length (cm) = test.sepal length (cm) AND\n",
    "    train.sepal width (cm) = test.sepal width (cm) AND\n",
    "    train.petal length (cm) = test.petal length (cm) AND\n",
    "    train.petal width (cm) = test.petal width (cm)\n",
    "\"\"\"\n",
    "pd.merge(train, test, on=[\n",
    "    \"sepal length (cm)\", \"sepal width (cm)\",\n",
    "    \"petal length (cm)\", \"petal width (cm)\"],\n",
    "         how=\"inner\")"
   ]
  },
  {
   "cell_type": "code",
   "execution_count": 67,
   "metadata": {},
   "outputs": [
    {
     "data": {
      "text/plain": [
       "<matplotlib.collections.PathCollection at 0x1fa75f78608>"
      ]
     },
     "execution_count": 67,
     "metadata": {},
     "output_type": "execute_result"
    },
    {
     "data": {
      "image/png": "[encoded data removed]",
      "text/plain": [
       "<Figure size 432x288 with 1 Axes>"
      ]
     },
     "metadata": {
      "needs_background": "light"
     },
     "output_type": "display_data"
    }
   ],
   "source": [
    "plt.scatter(train[\"iris\"], train[\"sepal length (cm)\"])"
   ]
  },
  {
   "cell_type": "code",
   "execution_count": 68,
   "metadata": {},
   "outputs": [
    {
     "data": {
      "text/plain": [
       "<matplotlib.collections.PathCollection at 0x1fa75fd5308>"
      ]
     },
     "execution_count": 68,
     "metadata": {},
     "output_type": "execute_result"
    },
    {
     "data": {
      "image/png": "[encoded data removed]",
      "text/plain": [
       "<Figure size 432x288 with 1 Axes>"
      ]
     },
     "metadata": {
      "needs_background": "light"
     },
     "output_type": "display_data"
    }
   ],
   "source": [
    "plt.scatter(train[\"iris\"], train[\"sepal width (cm)\"])"
   ]
  },
  {
   "cell_type": "code",
   "execution_count": 69,
   "metadata": {},
   "outputs": [
    {
     "data": {
      "text/plain": [
       "<matplotlib.collections.PathCollection at 0x1fa76021808>"
      ]
     },
     "execution_count": 69,
     "metadata": {},
     "output_type": "execute_result"
    },
    {
     "data": {
      "image/png": "[encoded data removed]",
      "text/plain": [
       "<Figure size 432x288 with 1 Axes>"
      ]
     },
     "metadata": {
      "needs_background": "light"
     },
     "output_type": "display_data"
    }
   ],
   "source": [
    "plt.scatter(train[\"iris\"], train[\"petal width (cm)\"])"
   ]
  },
  {
   "cell_type": "code",
   "execution_count": 70,
   "metadata": {},
   "outputs": [
    {
     "data": {
      "text/plain": [
       "<matplotlib.collections.PathCollection at 0x1fa76079388>"
      ]
     },
     "execution_count": 70,
     "metadata": {},
     "output_type": "execute_result"
    },
    {
     "data": {
      "image/png": "[encoded data removed]",
      "text/plain": [
       "<Figure size 432x288 with 1 Axes>"
      ]
     },
     "metadata": {
      "needs_background": "light"
     },
     "output_type": "display_data"
    }
   ],
   "source": [
    "plt.scatter(train[\"iris\"], train[\"petal length (cm)\"])"
   ]
  },
  {
   "cell_type": "code",
   "execution_count": 57,
   "metadata": {},
   "outputs": [
    {
     "data": {
      "text/plain": [
       "(   id  sepal length (cm)  sepal width (cm)  petal length (cm)  \\\n",
       " 0  45                5.3               3.7                1.5   \n",
       " 1  46                7.7               2.6                6.9   \n",
       " 2  47                6.5               3.0                5.2   \n",
       " 3  48                6.0               2.7                5.1   \n",
       " 4  49                7.2               3.2                6.0   \n",
       " \n",
       "    petal width (cm)        iris  \n",
       " 0               0.2      setosa  \n",
       " 1               2.3   virginica  \n",
       " 2               2.0   virginica  \n",
       " 3               1.6  versicolor  \n",
       " 4               1.8   virginica  ,\n",
       "    id  sepal length (cm)  sepal width (cm)  petal length (cm)  \\\n",
       " 0   0                6.3               2.8                5.1   \n",
       " 1   1                5.0               3.5                1.3   \n",
       " 2   2                5.0               3.3                1.4   \n",
       " 3   3                6.2               2.2                4.5   \n",
       " 4   4                5.1               2.5                3.0   \n",
       " \n",
       "    petal width (cm)  \n",
       " 0               1.5  \n",
       " 1               0.3  \n",
       " 2               0.2  \n",
       " 3               1.5  \n",
       " 4               1.1  )"
      ]
     },
     "execution_count": 57,
     "metadata": {},
     "output_type": "execute_result"
    }
   ],
   "source": [
    "train = pd.read_sql(sql=\"SELECT * FROM train\", con=conexao)\n",
    "test = pd.read_sql(sql=\"SELECT * FROM test\", con=conexao)\n",
    "train.head(), test.head()"
   ]
  }
 ],
 "metadata": {
  "kernelspec": {
   "display_name": "Python 3",
   "language": "python",
   "name": "python3"
  },
  "language_info": {
   "codemirror_mode": {
    "name": "ipython",
    "version": 3
   },
   "file_extension": ".py",
   "mimetype": "text/x-python",
   "name": "python",
   "nbconvert_exporter": "python",
   "pygments_lexer": "ipython3",
   "version": "3.7.6"
  }
 },
 "nbformat": 4,
 "nbformat_minor": 4
}
