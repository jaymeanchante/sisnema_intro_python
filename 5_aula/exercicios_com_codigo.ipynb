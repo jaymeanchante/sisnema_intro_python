{
 "cells": [
  {
   "cell_type": "markdown",
   "metadata": {},
   "source": [
    "# Capítulo 16\n",
    "\n",
    "Os exemplos de código deste capítulo estão disponíveis em http://thinkpython2.com/code/Time1.py; as soluções para os exercícios estão disponíveis em http://thinkpython2.com/code/Time1_soln.py"
   ]
  },
  {
   "cell_type": "markdown",
   "metadata": {},
   "source": [
    "## Exercício 16.1\n",
    "\n",
    "Escreva uma função chamada mul_time que receba um objeto Time e um número e retorne um novo objeto Time que contenha o produto do Time original e do número.\n",
    "\n",
    "Então use mul_time para escrever uma função que receba um objeto Time representando o tempo até o fim de uma corrida e um número que represente a distância, e retorne um objeto Time com o passo médio (tempo por milha)."
   ]
  },
  {
   "cell_type": "markdown",
   "metadata": {},
   "source": [
    "## Exercício 16.2\n",
    "\n",
    "O módulo datetime fornece objetos time que são semelhantes aos objetos Time deste capítulo, mas ele oferece um grande conjunto de métodos e operadores. Leia a documentação em http://docs.python.org/3/library/datetime.html.\n",
    "\n",
    "    1. Use o módulo datetime para escrever um programa que receba a data atual e exiba o dia da semana.\n",
    "\n",
    "    2. Escreva um programa que receba um aniversário como entrada e exiba a idade do usuário e o número de dias, horas, minutos e segundos até o seu próximo aniversário.\n",
    "\n",
    "    3. Para duas pessoas nascidas em dias diferentes, há um dia em que a idade de uma equivale a duas vezes a da outra. Este é o Dia Duplo delas. Escreva um programa que receba dois aniversários e calcule o Dia Duplo dos aniversariantes.\n",
    "\n",
    "    4. Para um desafio um pouco maior, escreva a versão mais geral que calcule o dia em que uma pessoa é N vezes mais velha que a outra.\n"
   ]
  },
  {
   "cell_type": "code",
   "execution_count": 116,
   "metadata": {},
   "outputs": [
    {
     "data": {
      "text/plain": [
       "datetime.datetime(2020, 1, 1, 0, 0)"
      ]
     },
     "execution_count": 116,
     "metadata": {},
     "output_type": "execute_result"
    }
   ],
   "source": [
    "datetime.datetime.strptime(\"2020-01-01\", \"%Y-%m-%d\")"
   ]
  },
  {
   "cell_type": "code",
   "execution_count": 118,
   "metadata": {},
   "outputs": [
    {
     "data": {
      "text/plain": [
       "datetime.datetime"
      ]
     },
     "execution_count": 118,
     "metadata": {},
     "output_type": "execute_result"
    }
   ],
   "source": [
    "type(datetime.datetime.now())"
   ]
  },
  {
   "cell_type": "code",
   "execution_count": 119,
   "metadata": {},
   "outputs": [
    {
     "data": {
      "text/plain": [
       "str"
      ]
     },
     "execution_count": 119,
     "metadata": {},
     "output_type": "execute_result"
    }
   ],
   "source": [
    "type(\"2020-07-10\")"
   ]
  },
  {
   "cell_type": "code",
   "execution_count": 120,
   "metadata": {},
   "outputs": [
    {
     "data": {
      "text/plain": [
       "int"
      ]
     },
     "execution_count": 120,
     "metadata": {},
     "output_type": "execute_result"
    }
   ],
   "source": [
    "type(5)"
   ]
  },
  {
   "cell_type": "code",
   "execution_count": 129,
   "metadata": {},
   "outputs": [
    {
     "data": {
      "text/plain": [
       "datetime.date(2020, 7, 10)"
      ]
     },
     "execution_count": 129,
     "metadata": {},
     "output_type": "execute_result"
    }
   ],
   "source": [
    "datetime.date.today()"
   ]
  },
  {
   "cell_type": "code",
   "execution_count": 128,
   "metadata": {},
   "outputs": [
    {
     "name": "stdout",
     "output_type": "stream",
     "text": [
      "Tipo do parâmetro recebido: <class 'int'>\n"
     ]
    },
    {
     "ename": "ValueError",
     "evalue": "",
     "output_type": "error",
     "traceback": [
      "\u001b[1;31m---------------------------------------------------------------------------\u001b[0m",
      "\u001b[1;31mValueError\u001b[0m                                Traceback (most recent call last)",
      "\u001b[1;32m<ipython-input-128-27d8abff9a7c>\u001b[0m in \u001b[0;36m<module>\u001b[1;34m\u001b[0m\n\u001b[0;32m     27\u001b[0m \u001b[1;31m# dia_da_semana(agora)\u001b[0m\u001b[1;33m\u001b[0m\u001b[1;33m\u001b[0m\u001b[1;33m\u001b[0m\u001b[0m\n\u001b[0;32m     28\u001b[0m \u001b[1;31m# dia_da_semana(\"2020-07-10\")\u001b[0m\u001b[1;33m\u001b[0m\u001b[1;33m\u001b[0m\u001b[1;33m\u001b[0m\u001b[0m\n\u001b[1;32m---> 29\u001b[1;33m \u001b[0mdia_da_semana\u001b[0m\u001b[1;33m(\u001b[0m\u001b[1;36m1000023123\u001b[0m\u001b[1;33m)\u001b[0m\u001b[1;33m\u001b[0m\u001b[1;33m\u001b[0m\u001b[0m\n\u001b[0m",
      "\u001b[1;32m<ipython-input-128-27d8abff9a7c>\u001b[0m in \u001b[0;36mdia_da_semana\u001b[1;34m(data)\u001b[0m\n\u001b[0;32m     21\u001b[0m         \u001b[1;32mpass\u001b[0m\u001b[1;33m\u001b[0m\u001b[1;33m\u001b[0m\u001b[0m\n\u001b[0;32m     22\u001b[0m     \u001b[1;32melse\u001b[0m\u001b[1;33m:\u001b[0m\u001b[1;33m\u001b[0m\u001b[1;33m\u001b[0m\u001b[0m\n\u001b[1;32m---> 23\u001b[1;33m         \u001b[1;32mraise\u001b[0m \u001b[0mValueError\u001b[0m\u001b[1;33m\u001b[0m\u001b[1;33m\u001b[0m\u001b[0m\n\u001b[0m\u001b[0;32m     24\u001b[0m     \u001b[0mnumero\u001b[0m \u001b[1;33m=\u001b[0m \u001b[0mdata\u001b[0m\u001b[1;33m.\u001b[0m\u001b[0mweekday\u001b[0m\u001b[1;33m(\u001b[0m\u001b[1;33m)\u001b[0m\u001b[1;33m\u001b[0m\u001b[1;33m\u001b[0m\u001b[0m\n\u001b[0;32m     25\u001b[0m     \u001b[0mtexto_dia_da_semana\u001b[0m \u001b[1;33m=\u001b[0m \u001b[0mformata_dia_da_semana\u001b[0m\u001b[1;33m(\u001b[0m\u001b[0mnumero\u001b[0m\u001b[1;33m)\u001b[0m\u001b[1;33m\u001b[0m\u001b[1;33m\u001b[0m\u001b[0m\n",
      "\u001b[1;31mValueError\u001b[0m: "
     ]
    }
   ],
   "source": [
    "#1\n",
    "import datetime\n",
    "agora = datetime.datetime.now()\n",
    "agora_dias = datetime.datetime(year=2020, month=7, day=10)\n",
    "def formata_dia_da_semana(numero):\n",
    "    dias_da_semana = {\n",
    "        0: \"Domingo\",\n",
    "        1: \"Segunda\",\n",
    "        2: \"Terça\",\n",
    "        3: \"Quarta\",\n",
    "        4: \"Quinta\",\n",
    "        5: \"Sexta\",\n",
    "        6: \"Sábado\"\n",
    "    }\n",
    "    return dias_da_semana[numero]\n",
    "def dia_da_semana(data):\n",
    "    print(\"Tipo do parâmetro recebido:\", type(data))\n",
    "    if type(data) == str:\n",
    "        data = datetime.datetime.strptime(data, \"%Y-%m-%d\")\n",
    "    elif type(data) == datetime.datetime:\n",
    "        pass\n",
    "    else:\n",
    "        raise ValueError\n",
    "    numero = data.weekday()\n",
    "    texto_dia_da_semana = formata_dia_da_semana(numero)\n",
    "    return texto_dia_da_semana\n",
    "# dia_da_semana(agora)\n",
    "# dia_da_semana(\"2020-07-10\")\n",
    "dia_da_semana(1000023123)"
   ]
  },
  {
   "cell_type": "code",
   "execution_count": 110,
   "metadata": {},
   "outputs": [
    {
     "name": "stdout",
     "output_type": "stream",
     "text": [
      "Idade: 28\n",
      "Dias até próximo aniversário: 129\n"
     ]
    }
   ],
   "source": [
    "# 2\n",
    "aniversario_jayme = datetime.datetime(year=1991, month=11, day=17)\n",
    "def idade(data):\n",
    "    agora = datetime.datetime.now()\n",
    "    anos = agora.year - data.year\n",
    "    if agora.month < data.month or (agora.month == data.month and agora.days < data.days):\n",
    "        anos -= 1\n",
    "    return anos\n",
    "\n",
    "def dias_proximo_aniversario(data):\n",
    "    agora = datetime.datetime.now()\n",
    "    if data.month > agora.month or (data.month == agora.month and data.day > agora.day):\n",
    "        proximo_aniversario = datetime.datetime(year=agora.year, month=data.month, day=data.day)\n",
    "    else:\n",
    "        proximo_aniversario = datetime.datetime(year=agora.year+1, month=data.month, day=data.day)\n",
    "    diferenca = proximo_aniversario - agora\n",
    "    return diferenca.days\n",
    "\n",
    "print(\"Idade:\", idade(aniversario_jayme))\n",
    "print(\"Dias até próximo aniversário:\", dias_proximo_aniversario(aniversario_jayme))"
   ]
  },
  {
   "cell_type": "markdown",
   "metadata": {},
   "source": [
    "# Capítulo 17"
   ]
  },
  {
   "cell_type": "markdown",
   "metadata": {},
   "source": [
    "## Exercício 17.1\n",
    "\n",
    "Baixe o código deste capítulo em http://thinkpython2.com/code/Time2.py. Altere os atributos de Time para que um número inteiro único represente os segundos decorridos desde a meia-noite. Então altere os métodos (e a função int_to_time) para funcionar com a nova implementação. Você não deve modificar o código de teste em main. Ao terminar, a saída deve ser a mesma que antes.\n",
    "\n",
    "Solução: http://thinkpython2.com/code/Time2_soln.py"
   ]
  },
  {
   "cell_type": "markdown",
   "metadata": {},
   "source": [
    "## Exercício 17.2\n",
    "\n",
    "Este exercício é uma história com moral sobre um dos erros mais comuns e difíceis de encontrar no Python. Escreva uma definição de classe chamada Kangaroo com os seguintes métodos:\n",
    "\n",
    "    1. Um método __init__ que inicialize um atributo chamado pouch_contents  em uma lista vazia.\n",
    "\n",
    "    2. Um método chamado put_in_pouch que receba um objeto de qualquer tipo e o acrescente a pouch_contents.\n",
    "\n",
    "    3. Um método __str__ que retorne uma representação de string do objeto Kangaroo e os conteúdos de pouch (bolsa).\n",
    "\n",
    "Teste o seu código criando dois objetos Kangaroo, atribuindo-os a variáveis chamadas kanga e roo, e então acrescentando roo ao conteúdo da bolsa de kanga.\n",
    "\n",
    "Baixe http://thinkpython2.com/code/BadKangaroo.py. Ele contém uma solução para o problema anterior com um defeito bem grande e bem feio. Encontre e corrija o defeito.\n",
    "\n",
    "Se não conseguir achar a solução, você pode baixar http://thinkpython2.com/code/GoodKangaroo.py, que explica o problema e demonstra uma solução."
   ]
  },
  {
   "cell_type": "code",
   "execution_count": null,
   "metadata": {},
   "outputs": [],
   "source": [
    "# 1\n",
    "class Kangaroo:\n",
    "    def __init__(self, pouch_contents=[])"
   ]
  },
  {
   "cell_type": "code",
   "execution_count": null,
   "metadata": {},
   "outputs": [],
   "source": [
    "# 2\n",
    "class Kangaroo:\n",
    "    def __init__(self, pouch_contents=[]):\n",
    "        self.pouch_contents = pouch_contents\n",
    "    def put_in_pouch(self, obj):\n",
    "        self.pouch_contents.append(obj)"
   ]
  },
  {
   "cell_type": "code",
   "execution_count": 111,
   "metadata": {},
   "outputs": [],
   "source": [
    "# 3\n",
    "class Kangaroo:\n",
    "    def __init__(self, pouch_contents=None):\n",
    "        if pouch_contents is None:\n",
    "            contents = []\n",
    "        self.pouch_contents = contents\n",
    "    def put_in_pouch(self, obj):\n",
    "        self.pouch_contents.append(obj)\n",
    "    def __str__(self):\n",
    "        conteudo = \"\"\n",
    "        for obj in self.pouch_contents:\n",
    "            conteudo += \"\\n\" + object.__str__(obj)\n",
    "        return conteudo"
   ]
  },
  {
   "cell_type": "code",
   "execution_count": 112,
   "metadata": {},
   "outputs": [
    {
     "data": {
      "text/plain": [
       "<__main__.Kangaroo at 0x1cfa309c7c8>"
      ]
     },
     "execution_count": 112,
     "metadata": {},
     "output_type": "execute_result"
    }
   ],
   "source": [
    "# 4\n",
    "kanga = Kangaroo()\n",
    "roo = Kangaroo()\n",
    "kanga.put_in_pouch(\"celular\")\n",
    "kanga.put_in_pouch(roo)\n",
    "kanga.put_in_pouch(\"carteira\")\n",
    "print(kanga)\n",
    "print(roo)"
   ]
  },
  {
   "cell_type": "markdown",
   "metadata": {},
   "source": [
    "# Capítulo 18"
   ]
  },
  {
   "cell_type": "markdown",
   "metadata": {},
   "source": [
    "## Exercício 18.1\n",
    "\n",
    "Para o seguinte programa, desenhe um diagrama de classe UML que mostre estas classes e as relações entre elas.\n",
    "\n",
    "```\n",
    "class PingPongParent:\n",
    "    pass\n",
    "\n",
    "class Ping(PingPongParent):\n",
    "    def __init__(self, pong):\n",
    "        self.pong = pong\n",
    "\n",
    "class Pong(PingPongParent):\n",
    "    def __init__(self, pings=None):\n",
    "        if pings is None:\n",
    "            self.pings = []\n",
    "        else:\n",
    "            self.pings = pings\n",
    "    def add_ping(self, ping):\n",
    "        self.pings.append(ping)\n",
    "\n",
    "pong = Pong()\n",
    "ping = Ping(pong)\n",
    "pong.add_ping(ping)\n",
    "```"
   ]
  },
  {
   "cell_type": "markdown",
   "metadata": {},
   "source": [
    "## Exercício 18.2\n",
    "\n",
    "Escreva um método Deck chamado deal_hands que receba dois parâmetros: o número de mãos e o número de cartas por mão. Ele deve criar o número adequado de objetos Hand, lidar com o número adequado de cartas por mão e retornar uma lista de Hands."
   ]
  },
  {
   "cell_type": "markdown",
   "metadata": {},
   "source": [
    "## Exercício 18.3\n",
    "\n",
    "A seguir, as mãos possíveis no pôquer, em ordem crescente de valor e ordem decrescente de probabilidade:\n",
    "\n",
    "**par**\n",
    "    Duas cartas com o mesmo valor.\n",
    "**dois pares**\n",
    "    Dois pares de cartas com o mesmo valor.\n",
    "**trinca**\n",
    "    Três cartas com o mesmo valor.\n",
    "**sequência**\n",
    "    Cinco cartas com valores em sequência (os ases podem ser altos ou baixos, então Ace-2-3-4-5 é uma sequência, assim como 10-Jack-Queen-King-Ace, mas Queen-King-Ace-2-3 não é.)\n",
    "**flush**\n",
    "    Cinco cartas com o mesmo naipe.\n",
    "**full house**\n",
    "    Três cartas com um valor, duas cartas com outro.\n",
    "**quadra**\n",
    "    Quatro cartas com o mesmo valor.\n",
    "**straight flush**\n",
    "    Cinco cartas em sequência (como definido acima) e com o mesmo naipe.\n",
    "\n",
    "A meta desses exercícios é estimar a probabilidade de ter estas várias mãos.\n",
    "\n",
    "    1. Baixe os seguintes arquivos de http://thinkpython2.com/code:\n",
    "\n",
    "    Card.py: Versão completa das classes Card, Deck e Hand deste capítulo.\n",
    "\n",
    "    PokerHand.py: Uma implementação incompleta de uma classe que representa uma mão de pôquer e código para testá-la.\n",
    "\n",
    "    2. Se executar PokerHand.py, você verá que o programa cria mãos de pôquer com 7 cartas e verifica se alguma delas contém um flush. Leia este código com atenção antes de continuar.\n",
    "\n",
    "    3. Acrescente métodos a PokerHand.py chamados has_pair, has_twopair, etc. que retornem True ou False conforme a mão cumpra os critérios em questão. Seu código deve funcionar corretamente para “mãos” que contenham qualquer número de cartas (embora 5 e 7 sejam as quantidades mais comuns).\n",
    "\n",
    "    4. Escreva um método chamado classify que descubra a classificação do valor mais alto para uma mão e estabeleça o atributo label em questão. Por exemplo, uma mão de 7 cartas poderia conter um flush e um par; ela deve ser marcada como “flush”.\n",
    "\n",
    "    5. Quando se convencer de que os seus métodos de classificação estão funcionando, o próximo passo deve ser estimar as probabilidades de várias mãos. Escreva uma função em PokerHand.py que embaralhe cartas, divida-as em mãos, classifique as mãos e conte o número de vezes em que várias classificações aparecem.\n",
    "\n",
    "    Exiba uma tabela das classificações e suas probabilidades. Execute seu programa com números cada vez maiores de mãos até que os valores de saída convirjam a um grau razoável de exatidão. Compare seus resultados com os valores em http://en.wikipedia.org/wiki/Hand_rankings.\n",
    "\n",
    "Solução: http://thinkpython2.com/code/PokerHandSoln.py"
   ]
  }
 ],
 "metadata": {
  "kernelspec": {
   "display_name": "Python 3",
   "language": "python",
   "name": "python3"
  },
  "language_info": {
   "codemirror_mode": {
    "name": "ipython",
    "version": 3
   },
   "file_extension": ".py",
   "mimetype": "text/x-python",
   "name": "python",
   "nbconvert_exporter": "python",
   "pygments_lexer": "ipython3",
   "version": "3.7.6"
  }
 },
 "nbformat": 4,
 "nbformat_minor": 4
}
