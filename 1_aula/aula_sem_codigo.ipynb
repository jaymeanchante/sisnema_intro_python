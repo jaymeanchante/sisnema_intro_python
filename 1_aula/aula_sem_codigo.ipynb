{
 "cells": [
  {
   "cell_type": "markdown",
   "metadata": {},
   "source": [
    "# Introdução\n",
    "\n",
    "* [Fundamentos de Python](https://sisnema.com.br/fundamentos-de-python)\n",
    "* Livro Pense Python na [Amazon](https://www.amazon.com/Allen-B-Downey-ebook/dp/B07QL2LKBG/ref=sr_1_1?dchild=1&keywords=pense+python&qid=1593983454&s=digital-text&sr=1-1) ou [online](https://penseallen.github.io/PensePython2e/)\n",
    "* [Instrutor](https://github.com/jaymeanchante)\n",
    "* Alunos"
   ]
  },
  {
   "cell_type": "markdown",
   "metadata": {},
   "source": [
    "# o que é Python\n",
    "\n",
    "* [História da linguagem](https://en.wikipedia.org/wiki/History_of_Python)\n",
    "* [Python 2](https://www.python.org/downloads/release/python-2717/) vs [Python 3](https://www.python.org/download/releases/3.0/)\n",
    "* [Implementações](https://wiki.python.org/moin/PythonImplementations)\n",
    "* [Distribuições](https://wiki.python.org/moin/PythonDistributions)\n",
    "* [PEPs](https://www.python.org/dev/peps/)\n",
    "* [Módulos](https://docs.python.org/3/py-modindex.html)\n",
    "* [pip](https://pip.pypa.io/en/stable/)\n",
    "* [PyPI](https://pypi.org/)\n",
    "* [Documentação oficial](https://docs.python.org/3/)"
   ]
  },
  {
   "cell_type": "markdown",
   "metadata": {},
   "source": [
    "# Ambiente\n",
    "\n",
    "* [GNU/Linux](https://www.getgnulinux.org/en/)\n",
    "* [Git](https://git-scm.com)\n",
    "* [Interface gráfica de desenvolvimento](https://en.wikipedia.org/wiki/Comparison_of_integrated_development_environments), [editor de texto](https://en.wikipedia.org/wiki/Comparison_of_text_editors)"
   ]
  },
  {
   "cell_type": "markdown",
   "metadata": {},
   "source": [
    "# Instalação\n",
    "\n",
    "* [python.org](https://www.python.org/downloads/)  \n",
    "ou\n",
    "* [Anaconda](https://www.anaconda.com/products/individual)  \n",
    "ou outros"
   ]
  },
  {
   "cell_type": "markdown",
   "metadata": {},
   "source": [
    "# Configuração\n",
    "\n",
    "* Baixando o projeto\n",
    "* Isolando o ambiente\n",
    "* Instalando as bibliotecas\n",
    "* Lançando o jupyter"
   ]
  },
  {
   "cell_type": "markdown",
   "metadata": {},
   "source": [
    "# jupyter\n",
    "\n",
    "* [Projeto IPython](https://ipython.org/)\n",
    "* [Projeto jupyter](https://jupyter.org/)\n",
    "* \"esc + h\"\n",
    "* Modo de comando vs Modo de edição\n",
    "* Células com código, Markdown, saídas de código, gráficos\n",
    "* Ordem de execução das células\n",
    "* [Comandos mágicos](https://ipython.readthedocs.io/en/stable/interactive/magics.html), exemplo do `%lsmagic`\n",
    "* Exclação, exemplo `!dir` ou `!ls`\n",
    "* Interrogação ou help, exemplo `list?`"
   ]
  },
  {
   "cell_type": "markdown",
   "metadata": {},
   "source": [
    "# Dúvidas?\n",
    "\n",
    "![](https://pmtgurumantra.files.wordpress.com/2011/06/ask-your-doubt.jpg?w=640)\n",
    "\n",
    "Vamos ao código!"
   ]
  },
  {
   "cell_type": "markdown",
   "metadata": {},
   "source": [
    "# Capítulo 1: A jornada do programa"
   ]
  },
  {
   "cell_type": "code",
   "execution_count": null,
   "metadata": {},
   "outputs": [],
   "source": [
    "# interpretador"
   ]
  },
  {
   "cell_type": "code",
   "execution_count": null,
   "metadata": {},
   "outputs": [],
   "source": [
    "# print"
   ]
  },
  {
   "cell_type": "code",
   "execution_count": null,
   "metadata": {},
   "outputs": [],
   "source": [
    "# calculadora"
   ]
  },
  {
   "cell_type": "code",
   "execution_count": null,
   "metadata": {},
   "outputs": [],
   "source": [
    "# operadores artiméticos: + - * ** / //"
   ]
  },
  {
   "cell_type": "code",
   "execution_count": null,
   "metadata": {},
   "outputs": [],
   "source": [
    "# valores e tipos: type"
   ]
  },
  {
   "cell_type": "markdown",
   "metadata": {},
   "source": [
    "## Exercícios"
   ]
  },
  {
   "cell_type": "markdown",
   "metadata": {},
   "source": [
    "# Capítulo 2: Variáveis, expressões e instruções"
   ]
  },
  {
   "cell_type": "code",
   "execution_count": null,
   "metadata": {},
   "outputs": [],
   "source": [
    "# atribuição"
   ]
  },
  {
   "cell_type": "code",
   "execution_count": null,
   "metadata": {},
   "outputs": [],
   "source": [
    "# convenção de nomes\n",
    "# palavras reservadas: https://docs.python.org/2.5/ref/keywords.html"
   ]
  },
  {
   "cell_type": "code",
   "execution_count": null,
   "metadata": {},
   "outputs": [],
   "source": [
    "# expressões e instruções"
   ]
  },
  {
   "cell_type": "code",
   "execution_count": null,
   "metadata": {},
   "outputs": [],
   "source": [
    "# modo interativo vs modo script"
   ]
  },
  {
   "cell_type": "code",
   "execution_count": null,
   "metadata": {},
   "outputs": [],
   "source": [
    "# ordem das operações, PEMDAS"
   ]
  },
  {
   "cell_type": "code",
   "execution_count": null,
   "metadata": {},
   "outputs": [],
   "source": [
    "# operação com strings"
   ]
  },
  {
   "cell_type": "code",
   "execution_count": null,
   "metadata": {},
   "outputs": [],
   "source": [
    "# comentários"
   ]
  },
  {
   "cell_type": "code",
   "execution_count": null,
   "metadata": {},
   "outputs": [],
   "source": [
    "# depuração e tipos de erros"
   ]
  },
  {
   "cell_type": "markdown",
   "metadata": {},
   "source": [
    "# Capítulo 3: Funções"
   ]
  },
  {
   "cell_type": "code",
   "execution_count": null,
   "metadata": {},
   "outputs": [],
   "source": [
    "# chamada de funções: type, int, float, str"
   ]
  },
  {
   "cell_type": "code",
   "execution_count": null,
   "metadata": {},
   "outputs": [],
   "source": [
    "# importação de módulos"
   ]
  },
  {
   "cell_type": "code",
   "execution_count": null,
   "metadata": {},
   "outputs": [],
   "source": [
    "# módulo de funções matemáticas"
   ]
  },
  {
   "cell_type": "code",
   "execution_count": null,
   "metadata": {},
   "outputs": [],
   "source": [
    "# composição"
   ]
  },
  {
   "cell_type": "code",
   "execution_count": null,
   "metadata": {},
   "outputs": [],
   "source": [
    "# definição de funções: sintáxe, nome, parâmetros, docstring, retorno"
   ]
  },
  {
   "cell_type": "code",
   "execution_count": null,
   "metadata": {},
   "outputs": [],
   "source": [
    "# uso de funções customizadas"
   ]
  },
  {
   "cell_type": "code",
   "execution_count": null,
   "metadata": {},
   "outputs": [],
   "source": [
    "# fluxo de execução: \"problema com jupyter\""
   ]
  },
  {
   "cell_type": "code",
   "execution_count": null,
   "metadata": {},
   "outputs": [],
   "source": [
    "# escopo: variáveis globais vs locais"
   ]
  },
  {
   "cell_type": "code",
   "execution_count": null,
   "metadata": {},
   "outputs": [],
   "source": [
    "# diagrama de pilha"
   ]
  },
  {
   "cell_type": "code",
   "execution_count": null,
   "metadata": {},
   "outputs": [],
   "source": [
    "# funções com resultado, funções nulas"
   ]
  },
  {
   "cell_type": "code",
   "execution_count": null,
   "metadata": {},
   "outputs": [],
   "source": [
    "# por que funções?"
   ]
  }
 ],
 "metadata": {
  "kernelspec": {
   "display_name": "Python 3",
   "language": "python",
   "name": "python3"
  },
  "language_info": {
   "codemirror_mode": {
    "name": "ipython",
    "version": 3
   },
   "file_extension": ".py",
   "mimetype": "text/x-python",
   "name": "python",
   "nbconvert_exporter": "python",
   "pygments_lexer": "ipython3",
   "version": "3.8.3"
  }
 },
 "nbformat": 4,
 "nbformat_minor": 4
}
