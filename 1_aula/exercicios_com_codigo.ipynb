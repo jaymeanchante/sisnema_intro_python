{
 "cells": [
  {
   "cell_type": "markdown",
   "metadata": {},
   "source": [
    "Exercícios retirados do livro [Pense Python](https://penseallen.github.io/PensePython2e/01-jornada.html)"
   ]
  },
  {
   "cell_type": "markdown",
   "metadata": {},
   "source": [
    "# Capítulo 1"
   ]
  },
  {
   "cell_type": "markdown",
   "metadata": {},
   "source": [
    "## Exercício 1.1\n",
    "\n",
    "\n",
    "\n",
    "    1. Em uma instrução print, o que acontece se você omitir um dos parênteses ou ambos?\n",
    "\n",
    "    2. Se estiver tentando imprimir uma string, o que acontece se omitir uma das aspas ou ambas?\n",
    "\n",
    "    3. Você pode usar um sinal de menos para fazer um número negativo como -2. O que acontece se puser um sinal de mais antes de um número? E se escrever assim: 2++2?\n",
    "\n",
    "    4. Na notação matemática, zeros à esquerda são aceitáveis, como em 02. O que acontece se você tentar usar isso no Python?\n",
    "\n",
    "    5. O que acontece se você tiver dois valores sem nenhum operador entre eles?\n"
   ]
  },
  {
   "cell_type": "markdown",
   "metadata": {},
   "source": [
    "## Exercício 1.2\n",
    "\n",
    "\n",
    "\n",
    "    1. Quantos segundos há em 42 minutos e 42 segundos?\n",
    "\n",
    "    2. Quantas milhas há em 10 quilômetros? Dica: uma milha equivale a 1,61 quilômetro.\n",
    "\n",
    "    3. Se você correr 10 quilômetros em 42 minutos e 42 segundos, qual é o seu passo médio (tempo por milha em minutos e segundos)? Qual é a sua velocidade média em milhas por hora?\n",
    "    "
   ]
  },
  {
   "cell_type": "markdown",
   "metadata": {},
   "source": [
    "# Capítulo 2"
   ]
  },
  {
   "cell_type": "markdown",
   "metadata": {},
   "source": [
    "## Exercício 2.1\n",
    "\n",
    "\n",
    "    Vimos que n = 42 é legal. E 42 = n?\n",
    "\n",
    "    Ou x = y = 1?\n",
    "\n",
    "    Em algumas linguagens, cada instrução termina em um ponto e vírgula ;. O que acontece se você puser um ponto e vírgula no fim de uma instrução no Python?\n",
    "\n",
    "    E se puser um ponto no fim de uma instrução?\n",
    "\n",
    "    Em notação matemática é possível multiplicar x e y desta forma: xy. O que acontece se você tentar fazer o mesmo no Python?\n"
   ]
  },
  {
   "cell_type": "markdown",
   "metadata": {},
   "source": [
    "## Exercício 2.2\n",
    "\n",
    "\n",
    "\n",
    "    1. O volume de uma esfera com raio r é \"fórmula abaixo\" . Qual é o volume de uma esfera com raio 5?\n",
    "\n",
    "    2. Suponha que o preço de capa de um livro seja R$ 24,95, mas as livrarias recebem um desconto de 40%. O transporte custa R$ 3,00 para o primeiro exemplar e 75 centavos para cada exemplar adicional. Qual é o custo total de atacado para 60 cópias?\n",
    "\n",
    "    3. Se eu sair da minha casa às 6:52 e correr 1 quilômetro a um certo passo (8min15s por quilômetro), então 3 quilômetros a um passo mais rápido (7min12s por quilômetro) e 1 quilômetro no mesmo passo usado em primeiro lugar, que horas chego em casa para o café da manhã?\n",
    "\n",
    "fórmula: $4/3 * \\pi * r^3$"
   ]
  },
  {
   "cell_type": "markdown",
   "metadata": {},
   "source": [
    "# Capítulo 3"
   ]
  },
  {
   "cell_type": "markdown",
   "metadata": {},
   "source": [
    "## Exercício 3.1\n",
    "\n",
    "Escreva uma função chamada right_justify, que receba uma string chamada s como parâmetro e exiba a string com espaços suficientes à frente para que a última letra da string esteja na coluna 70 da tela.\n",
    "\n",
    "Dica: Use concatenação de strings e repetição. Além disso, o Python oferece uma função integrada chamada len, que apresenta o comprimento de uma string, então o valor de len('monty') é 5."
   ]
  },
  {
   "cell_type": "markdown",
   "metadata": {},
   "source": [
    "## Exercício 3.2\n",
    "\n",
    "Um objeto de função é um valor que pode ser atribuído a uma variável ou passado como argumento. Por exemplo, do_twice é uma função que toma um objeto de função como argumento e o chama duas vezes:\n",
    "\n",
    "```\n",
    "def do_twice(f):\n",
    "    f()\n",
    "    f()\n",
    "    ```\n",
    "\n",
    "Aqui está um exemplo que usa do_twice para chamar uma função chamada print_spam duas vezes:\n",
    "\n",
    "```\n",
    "def print_spam():\n",
    "    print('spam')\n",
    "do_twice(print_spam)\n",
    "```\n",
    "\n",
    "    1. Digite este exemplo em um script e teste-o.\n",
    "\n",
    "    2. Altere do_twice para que receba dois argumentos, um objeto de função e um valor, e chame a função duas vezes, passando o valor como um argumento.\n",
    "\n",
    "    3. Copie a definição de print_twice que aparece anteriormente neste capítulo no seu script.\n",
    "\n",
    "    4. Use a versão alterada de do_twice para chamar print_twice duas vezes, passando 'spam' como um argumento.\n",
    "\n",
    "    5. Defina uma função nova chamada do_four que receba um objeto de função e um valor e chame a função quatro vezes, passando o valor como um parâmetro. Deve haver só duas afirmações no corpo desta função, não quatro.\n"
   ]
  },
  {
   "cell_type": "markdown",
   "metadata": {},
   "source": [
    "## Exercício 3.3\n",
    "\n",
    "\n",
    "    Escreva uma função que desenhe uma grade como a seguinte:\n",
    "\n",
    "        + - - - - + - - - - +\n",
    "        |         |         |\n",
    "        |         |         |\n",
    "        |         |         |\n",
    "        |         |         |\n",
    "        + - - - - + - - - - +\n",
    "        |         |         |\n",
    "        |         |         |\n",
    "        |         |         |\n",
    "        |         |         |\n",
    "        + - - - - + - - - - +\n"
   ]
  }
 ],
 "metadata": {
  "kernelspec": {
   "display_name": "Python 3",
   "language": "python",
   "name": "python3"
  },
  "language_info": {
   "codemirror_mode": {
    "name": "ipython",
    "version": 3
   },
   "file_extension": ".py",
   "mimetype": "text/x-python",
   "name": "python",
   "nbconvert_exporter": "python",
   "pygments_lexer": "ipython3",
   "version": "3.8.3"
  }
 },
 "nbformat": 4,
 "nbformat_minor": 4
}
