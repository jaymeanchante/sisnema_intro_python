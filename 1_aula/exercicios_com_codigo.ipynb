{
 "cells": [
  {
   "cell_type": "markdown",
   "metadata": {},
   "source": [
    "Exercícios retirados do livro [Pense Python](https://penseallen.github.io/PensePython2e/01-jornada.html)"
   ]
  },
  {
   "cell_type": "markdown",
   "metadata": {},
   "source": [
    "# Capítulo 1"
   ]
  },
  {
   "cell_type": "markdown",
   "metadata": {},
   "source": [
    "## Exercício 1.1\n",
    "\n",
    "\n",
    "\n",
    "    1. Em uma instrução print, o que acontece se você omitir um dos parênteses ou ambos?\n",
    "\n",
    "    2. Se estiver tentando imprimir uma string, o que acontece se omitir uma das aspas ou ambas?\n",
    "\n",
    "    3. Você pode usar um sinal de menos para fazer um número negativo como -2. O que acontece se puser um sinal de mais antes de um número? E se escrever assim: 2++2?\n",
    "\n",
    "    4. Na notação matemática, zeros à esquerda são aceitáveis, como em 02. O que acontece se você tentar usar isso no Python?\n",
    "\n",
    "    5. O que acontece se você tiver dois valores sem nenhum operador entre eles?\n"
   ]
  },
  {
   "cell_type": "code",
   "execution_count": 1,
   "metadata": {},
   "outputs": [
    {
     "ename": "SyntaxError",
     "evalue": "unexpected EOF while parsing (<ipython-input-1-8e69c03735bf>, line 2)",
     "output_type": "error",
     "traceback": [
      "\u001b[1;36m  File \u001b[1;32m\"<ipython-input-1-8e69c03735bf>\"\u001b[1;36m, line \u001b[1;32m2\u001b[0m\n\u001b[1;33m    print(\"Olá\"\u001b[0m\n\u001b[1;37m               ^\u001b[0m\n\u001b[1;31mSyntaxError\u001b[0m\u001b[1;31m:\u001b[0m unexpected EOF while parsing\n"
     ]
    }
   ],
   "source": [
    "# 1\n",
    "print(\"Olá\""
   ]
  },
  {
   "cell_type": "code",
   "execution_count": 2,
   "metadata": {},
   "outputs": [
    {
     "ename": "SyntaxError",
     "evalue": "EOL while scanning string literal (<ipython-input-2-1f50702636a2>, line 1)",
     "output_type": "error",
     "traceback": [
      "\u001b[1;36m  File \u001b[1;32m\"<ipython-input-2-1f50702636a2>\"\u001b[1;36m, line \u001b[1;32m1\u001b[0m\n\u001b[1;33m    print(\"Olá)\u001b[0m\n\u001b[1;37m               ^\u001b[0m\n\u001b[1;31mSyntaxError\u001b[0m\u001b[1;31m:\u001b[0m EOL while scanning string literal\n"
     ]
    }
   ],
   "source": [
    "# 2\n",
    "print(\"Olá)"
   ]
  },
  {
   "cell_type": "code",
   "execution_count": 3,
   "metadata": {},
   "outputs": [
    {
     "name": "stdout",
     "output_type": "stream",
     "text": [
      "3\n",
      "4\n"
     ]
    }
   ],
   "source": [
    "# 3\n",
    "print(+3)\n",
    "print(2++2)"
   ]
  },
  {
   "cell_type": "code",
   "execution_count": 4,
   "metadata": {},
   "outputs": [
    {
     "ename": "SyntaxError",
     "evalue": "invalid token (<ipython-input-4-c83f22013014>, line 2)",
     "output_type": "error",
     "traceback": [
      "\u001b[1;36m  File \u001b[1;32m\"<ipython-input-4-c83f22013014>\"\u001b[1;36m, line \u001b[1;32m2\u001b[0m\n\u001b[1;33m    02\u001b[0m\n\u001b[1;37m     ^\u001b[0m\n\u001b[1;31mSyntaxError\u001b[0m\u001b[1;31m:\u001b[0m invalid token\n"
     ]
    }
   ],
   "source": [
    "# 4\n",
    "02"
   ]
  },
  {
   "cell_type": "code",
   "execution_count": 5,
   "metadata": {},
   "outputs": [
    {
     "ename": "SyntaxError",
     "evalue": "invalid syntax (<ipython-input-5-d0b5a4ca379e>, line 2)",
     "output_type": "error",
     "traceback": [
      "\u001b[1;36m  File \u001b[1;32m\"<ipython-input-5-d0b5a4ca379e>\"\u001b[1;36m, line \u001b[1;32m2\u001b[0m\n\u001b[1;33m    2 2\u001b[0m\n\u001b[1;37m      ^\u001b[0m\n\u001b[1;31mSyntaxError\u001b[0m\u001b[1;31m:\u001b[0m invalid syntax\n"
     ]
    }
   ],
   "source": [
    "# 5\n",
    "2 2"
   ]
  },
  {
   "cell_type": "code",
   "execution_count": 14,
   "metadata": {},
   "outputs": [
    {
     "data": {
      "text/plain": [
       "(2, 2)"
      ]
     },
     "execution_count": 14,
     "metadata": {},
     "output_type": "execute_result"
    }
   ],
   "source": [
    "2, 2"
   ]
  },
  {
   "cell_type": "markdown",
   "metadata": {},
   "source": [
    "## Exercício 1.2\n",
    "\n",
    "\n",
    "\n",
    "    1. Quantos segundos há em 42 minutos e 42 segundos?\n",
    "\n",
    "    2. Quantas milhas há em 10 quilômetros? Dica: uma milha equivale a 1,61 quilômetro.\n",
    "\n",
    "    3. Se você correr 10 quilômetros em 42 minutos e 42 segundos, qual é o seu passo médio (tempo por milha em minutos e segundos)? Qual é a sua velocidade média em milhas por hora?\n",
    "    "
   ]
  },
  {
   "cell_type": "code",
   "execution_count": 8,
   "metadata": {},
   "outputs": [
    {
     "data": {
      "text/plain": [
       "2562"
      ]
     },
     "execution_count": 8,
     "metadata": {},
     "output_type": "execute_result"
    }
   ],
   "source": [
    "# 1\n",
    "42 * 60 + 42"
   ]
  },
  {
   "cell_type": "code",
   "execution_count": 15,
   "metadata": {},
   "outputs": [
    {
     "data": {
      "text/plain": [
       "6.211180124223602"
      ]
     },
     "execution_count": 15,
     "metadata": {},
     "output_type": "execute_result"
    }
   ],
   "source": [
    "# 2\n",
    "10 / 1.61"
   ]
  },
  {
   "cell_type": "code",
   "execution_count": 19,
   "metadata": {},
   "outputs": [
    {
     "name": "stdout",
     "output_type": "stream",
     "text": [
      "Passo (min/m): 6.874700000000002\n",
      "Velocidade (m/h) 8.727653570337614\n"
     ]
    }
   ],
   "source": [
    "# 3\n",
    "print(\"Passo (min/m):\",    (42 + 42/60) / (10 / 1.61))      # passo em minutos por milha\n",
    "print(\"Velocidade (m/h)\",  (10 / 1.61) / (42/60 + 42/3600)) # velocidade em milhas por hora"
   ]
  },
  {
   "cell_type": "markdown",
   "metadata": {},
   "source": [
    "# Capítulo 2"
   ]
  },
  {
   "cell_type": "markdown",
   "metadata": {},
   "source": [
    "## Exercício 2.1\n",
    "\n",
    "\n",
    "    Vimos que n = 42 é legal. E 42 = n?\n",
    "\n",
    "    Ou x = y = 1?\n",
    "\n",
    "    Em algumas linguagens, cada instrução termina em um ponto e vírgula ;. O que acontece se você puser um ponto e vírgula no fim de uma instrução no Python?\n",
    "\n",
    "    E se puser um ponto no fim de uma instrução?\n",
    "\n",
    "    Em notação matemática é possível multiplicar x e y desta forma: xy. O que acontece se você tentar fazer o mesmo no Python?\n"
   ]
  },
  {
   "cell_type": "code",
   "execution_count": 20,
   "metadata": {},
   "outputs": [
    {
     "ename": "SyntaxError",
     "evalue": "can't assign to literal (<ipython-input-20-8937d43122dc>, line 2)",
     "output_type": "error",
     "traceback": [
      "\u001b[1;36m  File \u001b[1;32m\"<ipython-input-20-8937d43122dc>\"\u001b[1;36m, line \u001b[1;32m2\u001b[0m\n\u001b[1;33m    42 = n\u001b[0m\n\u001b[1;37m          ^\u001b[0m\n\u001b[1;31mSyntaxError\u001b[0m\u001b[1;31m:\u001b[0m can't assign to literal\n"
     ]
    }
   ],
   "source": [
    "n = 42\n",
    "42 = n"
   ]
  },
  {
   "cell_type": "code",
   "execution_count": 47,
   "metadata": {},
   "outputs": [
    {
     "name": "stdout",
     "output_type": "stream",
     "text": [
      "126\n"
     ]
    }
   ],
   "source": [
    "n = 42; m = 84; print(m + n)"
   ]
  },
  {
   "cell_type": "code",
   "execution_count": 48,
   "metadata": {},
   "outputs": [],
   "source": [
    "# 42. == 42.0\n",
    "n = 42."
   ]
  },
  {
   "cell_type": "code",
   "execution_count": 24,
   "metadata": {},
   "outputs": [
    {
     "ename": "NameError",
     "evalue": "name 'xy' is not defined",
     "output_type": "error",
     "traceback": [
      "\u001b[1;31m---------------------------------------------------------------------------\u001b[0m",
      "\u001b[1;31mNameError\u001b[0m                                 Traceback (most recent call last)",
      "\u001b[1;32m<ipython-input-24-070e81b4449a>\u001b[0m in \u001b[0;36m<module>\u001b[1;34m\u001b[0m\n\u001b[0;32m      1\u001b[0m \u001b[0mx\u001b[0m \u001b[1;33m=\u001b[0m \u001b[1;36m3\u001b[0m\u001b[1;33m\u001b[0m\u001b[1;33m\u001b[0m\u001b[0m\n\u001b[0;32m      2\u001b[0m \u001b[0my\u001b[0m \u001b[1;33m=\u001b[0m \u001b[1;36m4\u001b[0m\u001b[1;33m\u001b[0m\u001b[1;33m\u001b[0m\u001b[0m\n\u001b[1;32m----> 3\u001b[1;33m \u001b[0mxy\u001b[0m\u001b[1;33m\u001b[0m\u001b[1;33m\u001b[0m\u001b[0m\n\u001b[0m",
      "\u001b[1;31mNameError\u001b[0m: name 'xy' is not defined"
     ]
    }
   ],
   "source": [
    "x = 3\n",
    "y = 4\n",
    "xy"
   ]
  },
  {
   "cell_type": "markdown",
   "metadata": {},
   "source": [
    "## Exercício 2.2\n",
    "\n",
    "\n",
    "\n",
    "    1. O volume de uma esfera com raio r é \"fórmula abaixo\" . Qual é o volume de uma esfera com raio 5?\n",
    "\n",
    "    2. Suponha que o preço de capa de um livro seja R$ 24,95, mas as livrarias recebem um desconto de 40%. O transporte custa R$ 3,00 para o primeiro exemplar e 75 centavos para cada exemplar adicional. Qual é o custo total de atacado para 60 cópias?\n",
    "\n",
    "    3. Se eu sair da minha casa às 6:52 e correr 1 quilômetro a um certo passo (8min15s por quilômetro), então 3 quilômetros a um passo mais rápido (7min12s por quilômetro) e 1 quilômetro no mesmo passo usado em primeiro lugar, que horas chego em casa para o café da manhã?\n",
    "\n",
    "fórmula: $4/3 * \\pi * r^3$"
   ]
  },
  {
   "cell_type": "code",
   "execution_count": 49,
   "metadata": {},
   "outputs": [
    {
     "data": {
      "text/plain": [
       "523.3333333333334"
      ]
     },
     "execution_count": 49,
     "metadata": {},
     "output_type": "execute_result"
    }
   ],
   "source": [
    "# 1\n",
    "4/3 * 3.14 * 5 ** 3"
   ]
  },
  {
   "cell_type": "code",
   "execution_count": 32,
   "metadata": {},
   "outputs": [
    {
     "name": "stdout",
     "output_type": "stream",
     "text": [
      "Custo total é 945.4499999999999\n"
     ]
    }
   ],
   "source": [
    "# 2\n",
    "preco_capa_livro = 24.95\n",
    "desconto = 0.6\n",
    "transporte_primeiro_exemplar = 3.0\n",
    "transporte_demais_exemplares = .75\n",
    "numero_copias = 60\n",
    "\n",
    "custo_total_primeiro_exemplar = preco_capa_livro * desconto + transporte_primeiro_exemplar\n",
    "custo_capa_demais = preco_capa_livro * desconto * (numero_copias - 1)\n",
    "custo_frete_demais = transporte_demais_exemplares * (numero_copias - 1)\n",
    "custo_demais_exemplares = custo_capa_demais + custo_frete_demais\n",
    "custo_total = custo_primeiro_exemplar + custo_demais_exemplares\n",
    "print(\"Custo total é\", custo_total)"
   ]
  },
  {
   "cell_type": "code",
   "execution_count": 52,
   "metadata": {},
   "outputs": [
    {
     "name": "stdout",
     "output_type": "stream",
     "text": [
      "7 : 30\n"
     ]
    }
   ],
   "source": [
    "# 3\n",
    "horas_inicio = 6 + (52/60)\n",
    "primeira_caminhada = 1 * (8/60 + 15/3600)\n",
    "segunda_caminhada = 3 * (7/60 + 12/3600)\n",
    "terceira_caminhada = primeira_caminhada\n",
    "horas_cafe = horas_inicio + primeira_caminhada + segunda_caminhada + terceira_caminhada\n",
    "horario_cafe = horas_cafe\n",
    "print(int(horario_cafe), \":\", int((horario_cafe % 1) * 60))"
   ]
  },
  {
   "cell_type": "markdown",
   "metadata": {},
   "source": [
    "# Capítulo 3"
   ]
  },
  {
   "cell_type": "markdown",
   "metadata": {},
   "source": [
    "## Exercício 3.1\n",
    "\n",
    "Escreva uma função chamada right_justify, que receba uma string chamada s como parâmetro e exiba a string com espaços suficientes à frente para que a última letra da string esteja na coluna 70 da tela.\n",
    "\n",
    "Dica: Use concatenação de strings e repetição. Além disso, o Python oferece uma função integrada chamada len, que apresenta o comprimento de uma string, então o valor de len('monty') é 5."
   ]
  },
  {
   "cell_type": "code",
   "execution_count": 3,
   "metadata": {},
   "outputs": [
    {
     "name": "stdout",
     "output_type": "stream",
     "text": [
      "                                                                  Jayme\n",
      "                                                Jayme Tolpolar Anchante\n"
     ]
    }
   ],
   "source": [
    "def right_justify(s):\n",
    "    tamanho_total = 70\n",
    "    tamanho_s = len(s)\n",
    "    numero_espacos = tamanho_total-tamanho_s\n",
    "    print(\" \"*numero_espacos, s)\n",
    "\n",
    "right_justify(\"Jayme\")\n",
    "right_justify(\"Jayme Tolpolar Anchante\")"
   ]
  },
  {
   "cell_type": "markdown",
   "metadata": {},
   "source": [
    "## Exercício 3.2\n",
    "\n",
    "Um objeto de função é um valor que pode ser atribuído a uma variável ou passado como argumento. Por exemplo, do_twice é uma função que toma um objeto de função como argumento e o chama duas vezes:\n",
    "\n",
    "```\n",
    "def do_twice(f):\n",
    "    f()\n",
    "    f()\n",
    "    ```\n",
    "\n",
    "Aqui está um exemplo que usa do_twice para chamar uma função chamada print_spam duas vezes:\n",
    "\n",
    "```\n",
    "def print_spam():\n",
    "    print('spam')\n",
    "do_twice(print_spam)\n",
    "```\n",
    "\n",
    "    1. Digite este exemplo em um script e teste-o.\n",
    "\n",
    "    2. Altere do_twice para que receba dois argumentos, um objeto de função e um valor, e chame a função duas vezes, passando o valor como um argumento.\n",
    "\n",
    "    3. Copie a definição de print_twice que aparece anteriormente neste capítulo no seu script.\n",
    "\n",
    "    4. Use a versão alterada de do_twice para chamar print_twice duas vezes, passando 'spam' como um argumento.\n",
    "\n",
    "    5. Defina uma função nova chamada do_four que receba um objeto de função e um valor e chame a função quatro vezes, passando o valor como um parâmetro. Deve haver só duas afirmações no corpo desta função, não quatro.\n"
   ]
  },
  {
   "cell_type": "code",
   "execution_count": 37,
   "metadata": {},
   "outputs": [
    {
     "name": "stdout",
     "output_type": "stream",
     "text": [
      "spam\n",
      "spam\n"
     ]
    }
   ],
   "source": [
    "# 1\n",
    "def do_twice(f):\n",
    "    f()\n",
    "    f()\n",
    "def print_spam():\n",
    "    print(\"spam\")\n",
    "do_twice(print_spam)"
   ]
  },
  {
   "cell_type": "code",
   "execution_count": 39,
   "metadata": {},
   "outputs": [
    {
     "name": "stdout",
     "output_type": "stream",
     "text": [
      "Spam\n",
      "Spam\n"
     ]
    }
   ],
   "source": [
    "# 2\n",
    "def do_twice(f, valor):\n",
    "    f(valor)\n",
    "    f(valor)\n",
    "    \n",
    "def print_valor(parametro_valor):\n",
    "    print(parametro_valor)\n",
    "\n",
    "do_twice(f=print_valor, valor=\"Spam\")"
   ]
  },
  {
   "cell_type": "code",
   "execution_count": 30,
   "metadata": {},
   "outputs": [],
   "source": [
    "# 3\n",
    "def print_twice(v):\n",
    "    print(v)\n",
    "    print(v)"
   ]
  },
  {
   "cell_type": "code",
   "execution_count": 40,
   "metadata": {},
   "outputs": [
    {
     "name": "stdout",
     "output_type": "stream",
     "text": [
      "Spam and eggs\n",
      "Spam and eggs\n",
      "Spam and eggs\n",
      "Spam and eggs\n"
     ]
    }
   ],
   "source": [
    "# 4\n",
    "do_twice(print_twice, \"Spam and eggs\")"
   ]
  },
  {
   "cell_type": "code",
   "execution_count": 10,
   "metadata": {},
   "outputs": [
    {
     "name": "stdout",
     "output_type": "stream",
     "text": [
      "Spam\n",
      "Spam\n",
      "Spam\n",
      "Spam\n"
     ]
    }
   ],
   "source": [
    "# 5. Defina uma função nova chamada do_four\n",
    "# que receba um objeto de função e um valor \n",
    "# e chame a função quatro vezes, passando o valor como um parâmetro. \n",
    "# Deve haver só duas afirmações no corpo desta função, não quatro.\n",
    "\n",
    "def do_four(funcao, valor):\n",
    "    do_twice(funcao, valor)\n",
    "    do_twice(funcao, valor)\n",
    "\n",
    "do_four(print_valor, \"Spam\")"
   ]
  },
  {
   "cell_type": "markdown",
   "metadata": {},
   "source": [
    "## Exercício 3.3\n",
    "\n",
    "\n",
    "    Escreva uma função que desenhe uma grade como a seguinte:\n",
    "\n",
    "        + - - - - + - - - - +\n",
    "        |         |         |\n",
    "        |         |         |\n",
    "        |         |         |\n",
    "        |         |         |\n",
    "        + - - - - + - - - - +\n",
    "        |         |         |\n",
    "        |         |         |\n",
    "        |         |         |\n",
    "        |         |         |\n",
    "        + - - - - + - - - - +\n"
   ]
  },
  {
   "cell_type": "code",
   "execution_count": 2,
   "metadata": {},
   "outputs": [
    {
     "name": "stdout",
     "output_type": "stream",
     "text": [
      "|     |     |\n",
      "|     |     |\n",
      "|     |     |\n",
      "\n"
     ]
    }
   ],
   "source": [
    "print((\"|\" + \" \"*5 + \"|\" + \" \"*5 + \"|\\n\")*3)"
   ]
  },
  {
   "cell_type": "code",
   "execution_count": 28,
   "metadata": {},
   "outputs": [
    {
     "name": "stdout",
     "output_type": "stream",
     "text": [
      "+ - - - + - - - +\n",
      "|       |       |\n",
      "|       |       |\n",
      "|       |       |\n",
      "+ - - - + - - - +\n",
      "|       |       |\n",
      "|       |       |\n",
      "|       |       |\n",
      "+ - - - + - - - +\n"
     ]
    }
   ],
   "source": [
    "def print_linha_separadora():\n",
    "    print((\"+ \" + \"- \"*3)*2+\"+\")\n",
    "def print_outras_linhas():\n",
    "    \"\"\"Poderia ser assim:\n",
    "    print(((\"|\" + \" \"*5) + \"|\" + \" \"*5 + \"|\\n\")*3)\n",
    "    Mas não será\n",
    "    \"\"\"\n",
    "    print(\"|\", \" \"*5, \"|\", \" \"*5, \"|\")\n",
    "    print(\"|\", \" \"*5, \"|\", \" \"*5, \"|\")\n",
    "    print(\"|\", \" \"*5, \"|\", \" \"*5, \"|\")\n",
    "def print_caixa():\n",
    "    print_linha_separadora()\n",
    "    print_outras_linhas()\n",
    "    print_linha_separadora()\n",
    "    print_outras_linhas()\n",
    "    print_linha_separadora()\n",
    "print_caixa()"
   ]
  },
  {
   "cell_type": "code",
   "execution_count": 6,
   "metadata": {},
   "outputs": [
    {
     "name": "stdout",
     "output_type": "stream",
     "text": [
      "+ - - - + - - - +\n",
      "|       |       |\n",
      "|       |       |\n",
      "|       |       |\n",
      "\n",
      "+ - - - + - - - +\n",
      "|       |       |\n",
      "|       |       |\n",
      "|       |       |\n",
      "\n",
      "+ - - - + - - - +\n"
     ]
    }
   ],
   "source": [
    "def print_linha_separadora():\n",
    "    print((\"+ \" + \"- \"*3)*2+\"+\")\n",
    "def print_outras_linhas():\n",
    "    \"\"\"Poderia ser assim:\n",
    "    print(((\"|\" + \" \"*5) + \"|\" + \" \"*5 + \"|\\n\")*3)\n",
    "    Mas não será\n",
    "    \"\"\"\n",
    "    print(((\"|\" + \" \"*7) + \"|\" + \" \"*7 + \"|\\n\")*3)\n",
    "def print_caixa():\n",
    "    print_linha_separadora()\n",
    "    print_outras_linhas()\n",
    "    print_linha_separadora()\n",
    "    print_outras_linhas()\n",
    "    print_linha_separadora()\n",
    "print_caixa()"
   ]
  }
 ],
 "metadata": {
  "kernelspec": {
   "display_name": "Python 3",
   "language": "python",
   "name": "python3"
  },
  "language_info": {
   "codemirror_mode": {
    "name": "ipython",
    "version": 3
   },
   "file_extension": ".py",
   "mimetype": "text/x-python",
   "name": "python",
   "nbconvert_exporter": "python",
   "pygments_lexer": "ipython3",
   "version": "3.7.6"
  }
 },
 "nbformat": 4,
 "nbformat_minor": 4
}
